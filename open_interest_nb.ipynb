{
 "cells": [
  {
   "cell_type": "code",
   "execution_count": 1,
   "id": "d0ba09ef",
   "metadata": {},
   "outputs": [],
   "source": [
    "import pandas as pd\n",
    "from datetime import datetime, timedelta\n",
    "import plotly.express as px\n",
    "import plotly.graph_objects as go\n",
    "from plotly.graph_objs import *\n",
    "from plotly.graph_objs.scatter.marker import Line\n",
    "from plotly.subplots import make_subplots\n",
    "import statsmodels\n",
    "import numpy as np\n",
    "import re\n",
    "from bs4 import BeautifulSoup\n",
    "import plotly.io as pio\n",
    "import matplotlib.pyplot as plt\n",
    "import requests\n",
    "from pydrive.drive import GoogleDrive\n",
    "from io import StringIO\n",
    "import plot_settings\n",
    "import yfinance as yf\n",
    "import json\n",
    "from plotly.validators.scatter.marker import SymbolValidator"
   ]
  },
  {
   "cell_type": "markdown",
   "id": "50264edd",
   "metadata": {},
   "source": [
    "---"
   ]
  },
  {
   "cell_type": "markdown",
   "id": "756e0831",
   "metadata": {},
   "source": [
    "# link mapping "
   ]
  },
  {
   "cell_type": "code",
   "execution_count": 2,
   "id": "5fe87b1c",
   "metadata": {},
   "outputs": [],
   "source": [
    "# link_map = {'AAPL':'https://drive.google.com/file/d/1pbQacz0l7oAyoDpK8CMrR-4W3ZgmOM7i/view?usp=sharing'}"
   ]
  },
  {
   "cell_type": "code",
   "execution_count": 3,
   "id": "e735eec1",
   "metadata": {},
   "outputs": [],
   "source": [
    "# comp_choice = 'AAPL'"
   ]
  },
  {
   "cell_type": "code",
   "execution_count": 4,
   "id": "02080d1e",
   "metadata": {},
   "outputs": [],
   "source": [
    "week = datetime(2021,9,17)"
   ]
  },
  {
   "cell_type": "markdown",
   "id": "423c1888",
   "metadata": {},
   "source": [
    "---"
   ]
  },
  {
   "cell_type": "code",
   "execution_count": 10,
   "id": "78486932",
   "metadata": {},
   "outputs": [],
   "source": [
    "GOOD_FRIDAYS = [datetime(2022,4,15), datetime(2023,4,7), datetime(2024,3,29)]\n",
    "THURS_BEFORE = [x - timedelta(days=1) for x in GOOD_FRIDAYS]"
   ]
  },
  {
   "cell_type": "markdown",
   "id": "bd060c8d",
   "metadata": {},
   "source": [
    "### Load the file and reformat data "
   ]
  },
  {
   "cell_type": "code",
   "execution_count": 5,
   "id": "0ba7a746",
   "metadata": {},
   "outputs": [],
   "source": [
    "def pull_google_drive(url):\n",
    "    file_id = url.split('/')[-2]\n",
    "    dwn_url = \"https://drive.google.com/uc?id=\" + file_id\n",
    "    df = pd.read_csv(dwn_url)\n",
    "    return df"
   ]
  },
  {
   "cell_type": "code",
   "execution_count": 6,
   "id": "4d592b6f",
   "metadata": {},
   "outputs": [],
   "source": [
    "url = 'https://drive.google.com/file/d/1pbQacz0l7oAyoDpK8CMrR-4W3ZgmOM7i/view?usp=sharing'\n",
    "dfs = pull_google_drive(url)"
   ]
  },
  {
   "cell_type": "code",
   "execution_count": 7,
   "id": "ae6b3078",
   "metadata": {},
   "outputs": [],
   "source": [
    "def reformat_dfs(d):\n",
    "    # remove Unnamed columns\n",
    "    cols_keep = [x for x in d.columns if not x.startswith('Unnamed')]\n",
    "    d = d[cols_keep]\n",
    "    \n",
    "    # rename columns\n",
    "    d.columns = [x.replace(' ','_').replace('__','_').replace('.','').replace('1','_p').lower() for x in d.columns]\n",
    "    \n",
    "    # remove blank rows bc were unnecessary lines in original df with section headers\n",
    "    d = d[d.expiration_date.notnull()]\n",
    "\n",
    "    # reformat date columns\n",
    "    date_cols = ['expiration_date','expiration_date_p']\n",
    "    for c in date_cols:\n",
    "        d[c] = pd.to_datetime(d[c])\n",
    "        \n",
    "    return d    "
   ]
  },
  {
   "cell_type": "code",
   "execution_count": 8,
   "id": "98ac3fcb",
   "metadata": {},
   "outputs": [],
   "source": [
    "df = reformat_dfs(dfs)"
   ]
  },
  {
   "cell_type": "code",
   "execution_count": 9,
   "id": "bfb96d54",
   "metadata": {},
   "outputs": [
    {
     "data": {
      "text/html": [
       "<div>\n",
       "<style scoped>\n",
       "    .dataframe tbody tr th:only-of-type {\n",
       "        vertical-align: middle;\n",
       "    }\n",
       "\n",
       "    .dataframe tbody tr th {\n",
       "        vertical-align: top;\n",
       "    }\n",
       "\n",
       "    .dataframe thead th {\n",
       "        text-align: right;\n",
       "    }\n",
       "</style>\n",
       "<table border=\"1\" class=\"dataframe\">\n",
       "  <thead>\n",
       "    <tr style=\"text-align: right;\">\n",
       "      <th></th>\n",
       "      <th>call</th>\n",
       "      <th>last</th>\n",
       "      <th>chg</th>\n",
       "      <th>bid</th>\n",
       "      <th>ask</th>\n",
       "      <th>th_val</th>\n",
       "      <th>imp_vol</th>\n",
       "      <th>delta</th>\n",
       "      <th>gam</th>\n",
       "      <th>cvol</th>\n",
       "      <th>...</th>\n",
       "      <th>chg_p</th>\n",
       "      <th>bid_p</th>\n",
       "      <th>ask_p</th>\n",
       "      <th>th_val_p</th>\n",
       "      <th>imp_vol_p</th>\n",
       "      <th>delta_p</th>\n",
       "      <th>gam_p</th>\n",
       "      <th>cvol_p</th>\n",
       "      <th>open_int_p</th>\n",
       "      <th>expiration_date_p</th>\n",
       "    </tr>\n",
       "  </thead>\n",
       "  <tbody>\n",
       "    <tr>\n",
       "      <th>1</th>\n",
       "      <td>I1721D275000</td>\n",
       "      <td>118.40</td>\n",
       "      <td>-2.85</td>\n",
       "      <td>118.35</td>\n",
       "      <td>118.70</td>\n",
       "      <td>118.325000</td>\n",
       "      <td>0.0000</td>\n",
       "      <td>1.000000</td>\n",
       "      <td>0.000000</td>\n",
       "      <td>19.0</td>\n",
       "      <td>...</td>\n",
       "      <td>0.0</td>\n",
       "      <td>0.0</td>\n",
       "      <td>0.01</td>\n",
       "      <td>0.0050</td>\n",
       "      <td>982.942</td>\n",
       "      <td>-0.000233</td>\n",
       "      <td>1.164420e-05</td>\n",
       "      <td>0.0</td>\n",
       "      <td>2620.0</td>\n",
       "      <td>2021-09-17</td>\n",
       "    </tr>\n",
       "    <tr>\n",
       "      <th>2</th>\n",
       "      <td>I1721D287500</td>\n",
       "      <td>121.75</td>\n",
       "      <td>0.00</td>\n",
       "      <td>117.10</td>\n",
       "      <td>117.45</td>\n",
       "      <td>117.075000</td>\n",
       "      <td>0.0000</td>\n",
       "      <td>1.000000</td>\n",
       "      <td>0.000000</td>\n",
       "      <td>0.0</td>\n",
       "      <td>...</td>\n",
       "      <td>0.0</td>\n",
       "      <td>0.0</td>\n",
       "      <td>0.01</td>\n",
       "      <td>0.0050</td>\n",
       "      <td>956.988</td>\n",
       "      <td>-0.000240</td>\n",
       "      <td>1.228200e-05</td>\n",
       "      <td>0.0</td>\n",
       "      <td>393.0</td>\n",
       "      <td>2021-09-17</td>\n",
       "    </tr>\n",
       "    <tr>\n",
       "      <th>3</th>\n",
       "      <td>I1721D300000</td>\n",
       "      <td>118.70</td>\n",
       "      <td>0.00</td>\n",
       "      <td>115.85</td>\n",
       "      <td>116.20</td>\n",
       "      <td>115.825000</td>\n",
       "      <td>0.0000</td>\n",
       "      <td>1.000000</td>\n",
       "      <td>0.000000</td>\n",
       "      <td>0.0</td>\n",
       "      <td>...</td>\n",
       "      <td>0.0</td>\n",
       "      <td>0.0</td>\n",
       "      <td>0.01</td>\n",
       "      <td>0.0050</td>\n",
       "      <td>932.179</td>\n",
       "      <td>-0.000246</td>\n",
       "      <td>1.294060e-05</td>\n",
       "      <td>0.0</td>\n",
       "      <td>317.0</td>\n",
       "      <td>2021-09-17</td>\n",
       "    </tr>\n",
       "    <tr>\n",
       "      <th>4</th>\n",
       "      <td>I1721D312500</td>\n",
       "      <td>118.75</td>\n",
       "      <td>0.00</td>\n",
       "      <td>114.60</td>\n",
       "      <td>114.95</td>\n",
       "      <td>114.575000</td>\n",
       "      <td>0.0000</td>\n",
       "      <td>1.000000</td>\n",
       "      <td>0.000000</td>\n",
       "      <td>0.0</td>\n",
       "      <td>...</td>\n",
       "      <td>0.0</td>\n",
       "      <td>0.0</td>\n",
       "      <td>0.01</td>\n",
       "      <td>0.0050</td>\n",
       "      <td>908.419</td>\n",
       "      <td>-0.000253</td>\n",
       "      <td>1.362140e-05</td>\n",
       "      <td>0.0</td>\n",
       "      <td>410.0</td>\n",
       "      <td>2021-09-17</td>\n",
       "    </tr>\n",
       "    <tr>\n",
       "      <th>5</th>\n",
       "      <td>I1721D325000</td>\n",
       "      <td>116.46</td>\n",
       "      <td>0.00</td>\n",
       "      <td>113.35</td>\n",
       "      <td>113.70</td>\n",
       "      <td>113.325000</td>\n",
       "      <td>0.0000</td>\n",
       "      <td>1.000000</td>\n",
       "      <td>0.000000</td>\n",
       "      <td>0.0</td>\n",
       "      <td>...</td>\n",
       "      <td>0.0</td>\n",
       "      <td>0.0</td>\n",
       "      <td>0.01</td>\n",
       "      <td>0.0050</td>\n",
       "      <td>885.623</td>\n",
       "      <td>-0.000260</td>\n",
       "      <td>1.432510e-05</td>\n",
       "      <td>0.0</td>\n",
       "      <td>244.0</td>\n",
       "      <td>2021-09-17</td>\n",
       "    </tr>\n",
       "    <tr>\n",
       "      <th>...</th>\n",
       "      <td>...</td>\n",
       "      <td>...</td>\n",
       "      <td>...</td>\n",
       "      <td>...</td>\n",
       "      <td>...</td>\n",
       "      <td>...</td>\n",
       "      <td>...</td>\n",
       "      <td>...</td>\n",
       "      <td>...</td>\n",
       "      <td>...</td>\n",
       "      <td>...</td>\n",
       "      <td>...</td>\n",
       "      <td>...</td>\n",
       "      <td>...</td>\n",
       "      <td>...</td>\n",
       "      <td>...</td>\n",
       "      <td>...</td>\n",
       "      <td>...</td>\n",
       "      <td>...</td>\n",
       "      <td>...</td>\n",
       "      <td>...</td>\n",
       "    </tr>\n",
       "    <tr>\n",
       "      <th>376</th>\n",
       "      <td>K1921C230000</td>\n",
       "      <td>0.00</td>\n",
       "      <td>0.00</td>\n",
       "      <td>0.03</td>\n",
       "      <td>0.06</td>\n",
       "      <td>0.045000</td>\n",
       "      <td>41.7985</td>\n",
       "      <td>0.005797</td>\n",
       "      <td>0.000647</td>\n",
       "      <td>0.0</td>\n",
       "      <td>...</td>\n",
       "      <td>0.0</td>\n",
       "      <td>84.0</td>\n",
       "      <td>84.20</td>\n",
       "      <td>84.3812</td>\n",
       "      <td>0.000</td>\n",
       "      <td>-1.000000</td>\n",
       "      <td>8.664120e-09</td>\n",
       "      <td>0.0</td>\n",
       "      <td>0.0</td>\n",
       "      <td>2021-11-19</td>\n",
       "    </tr>\n",
       "    <tr>\n",
       "      <th>377</th>\n",
       "      <td>K1921C235000</td>\n",
       "      <td>0.00</td>\n",
       "      <td>0.00</td>\n",
       "      <td>0.03</td>\n",
       "      <td>0.06</td>\n",
       "      <td>0.044999</td>\n",
       "      <td>43.5024</td>\n",
       "      <td>0.005599</td>\n",
       "      <td>0.000603</td>\n",
       "      <td>0.0</td>\n",
       "      <td>...</td>\n",
       "      <td>0.0</td>\n",
       "      <td>89.0</td>\n",
       "      <td>89.20</td>\n",
       "      <td>89.3808</td>\n",
       "      <td>0.000</td>\n",
       "      <td>-1.000000</td>\n",
       "      <td>1.989720e-09</td>\n",
       "      <td>0.0</td>\n",
       "      <td>0.0</td>\n",
       "      <td>2021-11-19</td>\n",
       "    </tr>\n",
       "    <tr>\n",
       "      <th>378</th>\n",
       "      <td>K1921C240000</td>\n",
       "      <td>0.03</td>\n",
       "      <td>0.03</td>\n",
       "      <td>0.02</td>\n",
       "      <td>0.04</td>\n",
       "      <td>0.030000</td>\n",
       "      <td>43.3333</td>\n",
       "      <td>0.003871</td>\n",
       "      <td>0.000435</td>\n",
       "      <td>800.0</td>\n",
       "      <td>...</td>\n",
       "      <td>0.0</td>\n",
       "      <td>94.0</td>\n",
       "      <td>94.15</td>\n",
       "      <td>94.3804</td>\n",
       "      <td>0.000</td>\n",
       "      <td>-1.000000</td>\n",
       "      <td>4.412210e-10</td>\n",
       "      <td>0.0</td>\n",
       "      <td>0.0</td>\n",
       "      <td>2021-11-19</td>\n",
       "    </tr>\n",
       "    <tr>\n",
       "      <th>379</th>\n",
       "      <td>K1921C245000</td>\n",
       "      <td>0.03</td>\n",
       "      <td>0.00</td>\n",
       "      <td>0.02</td>\n",
       "      <td>0.05</td>\n",
       "      <td>0.034999</td>\n",
       "      <td>45.5893</td>\n",
       "      <td>0.004268</td>\n",
       "      <td>0.000452</td>\n",
       "      <td>0.0</td>\n",
       "      <td>...</td>\n",
       "      <td>0.0</td>\n",
       "      <td>99.0</td>\n",
       "      <td>99.15</td>\n",
       "      <td>99.3800</td>\n",
       "      <td>0.000</td>\n",
       "      <td>-1.000000</td>\n",
       "      <td>9.473900e-11</td>\n",
       "      <td>0.0</td>\n",
       "      <td>0.0</td>\n",
       "      <td>2021-11-19</td>\n",
       "    </tr>\n",
       "    <tr>\n",
       "      <th>380</th>\n",
       "      <td>K1921C250000</td>\n",
       "      <td>0.03</td>\n",
       "      <td>-0.01</td>\n",
       "      <td>0.02</td>\n",
       "      <td>0.05</td>\n",
       "      <td>0.035000</td>\n",
       "      <td>47.1334</td>\n",
       "      <td>0.004146</td>\n",
       "      <td>0.000426</td>\n",
       "      <td>723.0</td>\n",
       "      <td>...</td>\n",
       "      <td>0.0</td>\n",
       "      <td>104.0</td>\n",
       "      <td>104.15</td>\n",
       "      <td>104.3800</td>\n",
       "      <td>0.000</td>\n",
       "      <td>-1.000000</td>\n",
       "      <td>1.974810e-11</td>\n",
       "      <td>0.0</td>\n",
       "      <td>0.0</td>\n",
       "      <td>2021-11-19</td>\n",
       "    </tr>\n",
       "  </tbody>\n",
       "</table>\n",
       "<p>378 rows × 26 columns</p>\n",
       "</div>"
      ],
      "text/plain": [
       "             call    last   chg     bid     ask      th_val  imp_vol  \\\n",
       "1    I1721D275000  118.40 -2.85  118.35  118.70  118.325000   0.0000   \n",
       "2    I1721D287500  121.75  0.00  117.10  117.45  117.075000   0.0000   \n",
       "3    I1721D300000  118.70  0.00  115.85  116.20  115.825000   0.0000   \n",
       "4    I1721D312500  118.75  0.00  114.60  114.95  114.575000   0.0000   \n",
       "5    I1721D325000  116.46  0.00  113.35  113.70  113.325000   0.0000   \n",
       "..            ...     ...   ...     ...     ...         ...      ...   \n",
       "376  K1921C230000    0.00  0.00    0.03    0.06    0.045000  41.7985   \n",
       "377  K1921C235000    0.00  0.00    0.03    0.06    0.044999  43.5024   \n",
       "378  K1921C240000    0.03  0.03    0.02    0.04    0.030000  43.3333   \n",
       "379  K1921C245000    0.03  0.00    0.02    0.05    0.034999  45.5893   \n",
       "380  K1921C250000    0.03 -0.01    0.02    0.05    0.035000  47.1334   \n",
       "\n",
       "        delta       gam   cvol  ...  chg_p  bid_p   ask_p  th_val_p imp_vol_p  \\\n",
       "1    1.000000  0.000000   19.0  ...    0.0    0.0    0.01    0.0050   982.942   \n",
       "2    1.000000  0.000000    0.0  ...    0.0    0.0    0.01    0.0050   956.988   \n",
       "3    1.000000  0.000000    0.0  ...    0.0    0.0    0.01    0.0050   932.179   \n",
       "4    1.000000  0.000000    0.0  ...    0.0    0.0    0.01    0.0050   908.419   \n",
       "5    1.000000  0.000000    0.0  ...    0.0    0.0    0.01    0.0050   885.623   \n",
       "..        ...       ...    ...  ...    ...    ...     ...       ...       ...   \n",
       "376  0.005797  0.000647    0.0  ...    0.0   84.0   84.20   84.3812     0.000   \n",
       "377  0.005599  0.000603    0.0  ...    0.0   89.0   89.20   89.3808     0.000   \n",
       "378  0.003871  0.000435  800.0  ...    0.0   94.0   94.15   94.3804     0.000   \n",
       "379  0.004268  0.000452    0.0  ...    0.0   99.0   99.15   99.3800     0.000   \n",
       "380  0.004146  0.000426  723.0  ...    0.0  104.0  104.15  104.3800     0.000   \n",
       "\n",
       "      delta_p         gam_p  cvol_p  open_int_p  expiration_date_p  \n",
       "1   -0.000233  1.164420e-05     0.0      2620.0         2021-09-17  \n",
       "2   -0.000240  1.228200e-05     0.0       393.0         2021-09-17  \n",
       "3   -0.000246  1.294060e-05     0.0       317.0         2021-09-17  \n",
       "4   -0.000253  1.362140e-05     0.0       410.0         2021-09-17  \n",
       "5   -0.000260  1.432510e-05     0.0       244.0         2021-09-17  \n",
       "..        ...           ...     ...         ...                ...  \n",
       "376 -1.000000  8.664120e-09     0.0         0.0         2021-11-19  \n",
       "377 -1.000000  1.989720e-09     0.0         0.0         2021-11-19  \n",
       "378 -1.000000  4.412210e-10     0.0         0.0         2021-11-19  \n",
       "379 -1.000000  9.473900e-11     0.0         0.0         2021-11-19  \n",
       "380 -1.000000  1.974810e-11     0.0         0.0         2021-11-19  \n",
       "\n",
       "[378 rows x 26 columns]"
      ]
     },
     "execution_count": 9,
     "metadata": {},
     "output_type": "execute_result"
    }
   ],
   "source": [
    "df"
   ]
  },
  {
   "cell_type": "markdown",
   "id": "ba22c3fc",
   "metadata": {},
   "source": [
    "---"
   ]
  },
  {
   "cell_type": "code",
   "execution_count": 14,
   "id": "113b834e",
   "metadata": {},
   "outputs": [
    {
     "data": {
      "text/plain": [
       "array(['2021-09-17T00:00:00.000000000', '2021-09-24T00:00:00.000000000',\n",
       "       '2021-10-01T00:00:00.000000000', '2021-10-08T00:00:00.000000000',\n",
       "       '2021-10-15T00:00:00.000000000', '2021-10-22T00:00:00.000000000',\n",
       "       '2021-10-29T00:00:00.000000000', '2021-11-19T00:00:00.000000000'],\n",
       "      dtype='datetime64[ns]')"
      ]
     },
     "execution_count": 14,
     "metadata": {},
     "output_type": "execute_result"
    }
   ],
   "source": [
    "df.expiration_date.unique()"
   ]
  },
  {
   "cell_type": "code",
   "execution_count": 17,
   "id": "758e3153",
   "metadata": {},
   "outputs": [
    {
     "data": {
      "text/plain": [
       "148   2021-10-01\n",
       "149   2021-10-01\n",
       "150   2021-10-01\n",
       "151   2021-10-01\n",
       "152   2021-10-01\n",
       "153   2021-10-01\n",
       "154   2021-10-01\n",
       "155   2021-10-01\n",
       "156   2021-10-01\n",
       "157   2021-10-01\n",
       "158   2021-10-01\n",
       "159   2021-10-01\n",
       "160   2021-10-01\n",
       "161   2021-10-01\n",
       "162   2021-10-01\n",
       "163   2021-10-01\n",
       "164   2021-10-01\n",
       "165   2021-10-01\n",
       "166   2021-10-01\n",
       "167   2021-10-01\n",
       "168   2021-10-01\n",
       "169   2021-10-01\n",
       "170   2021-10-01\n",
       "171   2021-10-01\n",
       "172   2021-10-01\n",
       "173   2021-10-01\n",
       "174   2021-10-01\n",
       "175   2021-10-01\n",
       "176   2021-10-01\n",
       "177   2021-10-01\n",
       "178   2021-10-01\n",
       "179   2021-10-01\n",
       "180   2021-10-01\n",
       "181   2021-10-01\n",
       "182   2021-10-01\n",
       "183   2021-10-01\n",
       "184   2021-10-01\n",
       "185   2021-10-01\n",
       "186   2021-10-01\n",
       "187   2021-10-01\n",
       "188   2021-10-01\n",
       "189   2021-10-01\n",
       "190   2021-10-01\n",
       "191   2021-10-01\n",
       "Name: expiration_date, dtype: datetime64[ns]"
      ]
     },
     "execution_count": 17,
     "metadata": {},
     "output_type": "execute_result"
    }
   ],
   "source": [
    "single = [datetime(2021,10,1), datetime(2022,1,3)]\n",
    "\n",
    "df[df.expiration_date.isin(single)]['expiration_date']"
   ]
  },
  {
   "cell_type": "markdown",
   "id": "935678f9",
   "metadata": {},
   "source": [
    "---"
   ]
  },
  {
   "cell_type": "code",
   "execution_count": 9,
   "id": "91d68eb9",
   "metadata": {},
   "outputs": [],
   "source": [
    "df = df[df.expiration_date==week]"
   ]
  },
  {
   "cell_type": "code",
   "execution_count": 15,
   "id": "cb448f8f",
   "metadata": {},
   "outputs": [],
   "source": [
    "company = df.root_sym.unique()[0]"
   ]
  },
  {
   "cell_type": "code",
   "execution_count": 10,
   "id": "b7199f5f",
   "metadata": {},
   "outputs": [],
   "source": [
    "dates = [pd.to_datetime(str(x)).strftime('%b %d, %Y') for x in df.expiration_date.unique()][0]"
   ]
  },
  {
   "cell_type": "code",
   "execution_count": 11,
   "id": "8d5b1d40",
   "metadata": {},
   "outputs": [
    {
     "data": {
      "text/plain": [
       "'Sep 17, 2021'"
      ]
     },
     "execution_count": 11,
     "metadata": {},
     "output_type": "execute_result"
    }
   ],
   "source": [
    "dates"
   ]
  },
  {
   "cell_type": "code",
   "execution_count": 13,
   "id": "6e06250d",
   "metadata": {},
   "outputs": [
    {
     "data": {
      "text/plain": [
       "datetime.datetime(2021, 9, 17, 0, 0)"
      ]
     },
     "execution_count": 13,
     "metadata": {},
     "output_type": "execute_result"
    }
   ],
   "source": [
    "datetime.strptime(dates, '%b %d, %Y')"
   ]
  },
  {
   "cell_type": "markdown",
   "id": "c6173fe8",
   "metadata": {},
   "source": [
    "---"
   ]
  },
  {
   "cell_type": "markdown",
   "id": "ee77084b",
   "metadata": {},
   "source": [
    "### Pull google finance info "
   ]
  },
  {
   "cell_type": "code",
   "execution_count": 30,
   "id": "9fb0d82d",
   "metadata": {},
   "outputs": [],
   "source": [
    "yahoo = yf.Ticker(company)"
   ]
  },
  {
   "cell_type": "code",
   "execution_count": 15,
   "id": "a5dcb686",
   "metadata": {},
   "outputs": [],
   "source": [
    "start = week - timedelta(days=4)"
   ]
  },
  {
   "cell_type": "code",
   "execution_count": 28,
   "id": "f982634f",
   "metadata": {},
   "outputs": [],
   "source": [
    "yahoohist = yahoo.history(start = datetime(2021,11,1), end = datetime(2021,11,2))\n",
    "\n",
    "if len(yahoohist) == 0:\n",
    "    yahoo_failed = True\n",
    "    print('failed')"
   ]
  },
  {
   "cell_type": "code",
   "execution_count": 30,
   "id": "de01862a",
   "metadata": {},
   "outputs": [],
   "source": [
    "yahoohist = yahoo.history(start = start, end = week + timedelta(days=1))"
   ]
  },
  {
   "cell_type": "code",
   "execution_count": 31,
   "id": "09309f1e",
   "metadata": {},
   "outputs": [
    {
     "data": {
      "text/html": [
       "<div>\n",
       "<style scoped>\n",
       "    .dataframe tbody tr th:only-of-type {\n",
       "        vertical-align: middle;\n",
       "    }\n",
       "\n",
       "    .dataframe tbody tr th {\n",
       "        vertical-align: top;\n",
       "    }\n",
       "\n",
       "    .dataframe thead th {\n",
       "        text-align: right;\n",
       "    }\n",
       "</style>\n",
       "<table border=\"1\" class=\"dataframe\">\n",
       "  <thead>\n",
       "    <tr style=\"text-align: right;\">\n",
       "      <th></th>\n",
       "      <th>Open</th>\n",
       "      <th>High</th>\n",
       "      <th>Low</th>\n",
       "      <th>Close</th>\n",
       "      <th>Volume</th>\n",
       "      <th>Dividends</th>\n",
       "      <th>Stock Splits</th>\n",
       "    </tr>\n",
       "    <tr>\n",
       "      <th>Date</th>\n",
       "      <th></th>\n",
       "      <th></th>\n",
       "      <th></th>\n",
       "      <th></th>\n",
       "      <th></th>\n",
       "      <th></th>\n",
       "      <th></th>\n",
       "    </tr>\n",
       "  </thead>\n",
       "  <tbody>\n",
       "    <tr>\n",
       "      <th>2021-09-13</th>\n",
       "      <td>150.410490</td>\n",
       "      <td>151.199332</td>\n",
       "      <td>148.533225</td>\n",
       "      <td>149.332062</td>\n",
       "      <td>102404300</td>\n",
       "      <td>0</td>\n",
       "      <td>0</td>\n",
       "    </tr>\n",
       "    <tr>\n",
       "      <th>2021-09-14</th>\n",
       "      <td>150.130890</td>\n",
       "      <td>150.849842</td>\n",
       "      <td>146.695901</td>\n",
       "      <td>147.904129</td>\n",
       "      <td>109296300</td>\n",
       "      <td>0</td>\n",
       "      <td>0</td>\n",
       "    </tr>\n",
       "    <tr>\n",
       "      <th>2021-09-15</th>\n",
       "      <td>148.343489</td>\n",
       "      <td>149.222211</td>\n",
       "      <td>146.156678</td>\n",
       "      <td>148.812805</td>\n",
       "      <td>83281300</td>\n",
       "      <td>0</td>\n",
       "      <td>0</td>\n",
       "    </tr>\n",
       "    <tr>\n",
       "      <th>2021-09-16</th>\n",
       "      <td>148.223670</td>\n",
       "      <td>148.752896</td>\n",
       "      <td>147.005447</td>\n",
       "      <td>148.573151</td>\n",
       "      <td>68034100</td>\n",
       "      <td>0</td>\n",
       "      <td>0</td>\n",
       "    </tr>\n",
       "    <tr>\n",
       "      <th>2021-09-17</th>\n",
       "      <td>148.603125</td>\n",
       "      <td>148.603125</td>\n",
       "      <td>145.547572</td>\n",
       "      <td>145.847137</td>\n",
       "      <td>129868800</td>\n",
       "      <td>0</td>\n",
       "      <td>0</td>\n",
       "    </tr>\n",
       "  </tbody>\n",
       "</table>\n",
       "</div>"
      ],
      "text/plain": [
       "                  Open        High         Low       Close     Volume  \\\n",
       "Date                                                                    \n",
       "2021-09-13  150.410490  151.199332  148.533225  149.332062  102404300   \n",
       "2021-09-14  150.130890  150.849842  146.695901  147.904129  109296300   \n",
       "2021-09-15  148.343489  149.222211  146.156678  148.812805   83281300   \n",
       "2021-09-16  148.223670  148.752896  147.005447  148.573151   68034100   \n",
       "2021-09-17  148.603125  148.603125  145.547572  145.847137  129868800   \n",
       "\n",
       "            Dividends  Stock Splits  \n",
       "Date                                 \n",
       "2021-09-13          0             0  \n",
       "2021-09-14          0             0  \n",
       "2021-09-15          0             0  \n",
       "2021-09-16          0             0  \n",
       "2021-09-17          0             0  "
      ]
     },
     "execution_count": 31,
     "metadata": {},
     "output_type": "execute_result"
    }
   ],
   "source": [
    "yahoohist"
   ]
  },
  {
   "cell_type": "code",
   "execution_count": 19,
   "id": "7c6629aa",
   "metadata": {},
   "outputs": [],
   "source": [
    "close = yahoohist['Close'][-1]\n",
    "range_st = close - close*.08\n",
    "range_end = close + close*.08"
   ]
  },
  {
   "cell_type": "code",
   "execution_count": 20,
   "id": "870c9314",
   "metadata": {},
   "outputs": [
    {
     "data": {
      "text/plain": [
       "(134.17936645507814, 157.5149084472656)"
      ]
     },
     "execution_count": 20,
     "metadata": {},
     "output_type": "execute_result"
    }
   ],
   "source": [
    "range_st, range_end"
   ]
  },
  {
   "cell_type": "markdown",
   "id": "698f3891",
   "metadata": {},
   "source": [
    "---"
   ]
  },
  {
   "cell_type": "markdown",
   "id": "10932d80",
   "metadata": {},
   "source": [
    "### Set-up and create plot "
   ]
  },
  {
   "cell_type": "code",
   "execution_count": 21,
   "id": "50faa4c9",
   "metadata": {},
   "outputs": [],
   "source": [
    "pltdf1 = df.filter(['strike','cvol','expiration_date','root_sym'])\n",
    "pltdf1['type'] = 'call'\n",
    "pltdf2 = df.filter(['strike','cvol_p','expiration_date','root_sym'])\n",
    "pltdf2['type'] = 'put'\n",
    "pltdf2 = pltdf2.rename(columns={'cvol_p':'cvol'})\n",
    "\n",
    "pltdf = pd.concat([pltdf1,pltdf2])"
   ]
  },
  {
   "cell_type": "code",
   "execution_count": 22,
   "id": "b8918b58",
   "metadata": {},
   "outputs": [],
   "source": [
    "latest = pltdf[(pltdf.strike>=range_st) & (pltdf.strike<=range_end)]\n",
    "\n",
    "tru_rangest = latest.strike.min()\n",
    "tru_rangeend = latest.strike.max()\n",
    "\n",
    "latest = latest[latest.strike==latest.strike.max()]\n",
    "latest = latest.reset_index(drop=True)"
   ]
  },
  {
   "cell_type": "code",
   "execution_count": 23,
   "id": "9b08d54b",
   "metadata": {},
   "outputs": [
    {
     "data": {
      "text/html": [
       "<div>\n",
       "<style scoped>\n",
       "    .dataframe tbody tr th:only-of-type {\n",
       "        vertical-align: middle;\n",
       "    }\n",
       "\n",
       "    .dataframe tbody tr th {\n",
       "        vertical-align: top;\n",
       "    }\n",
       "\n",
       "    .dataframe thead th {\n",
       "        text-align: right;\n",
       "    }\n",
       "</style>\n",
       "<table border=\"1\" class=\"dataframe\">\n",
       "  <thead>\n",
       "    <tr style=\"text-align: right;\">\n",
       "      <th></th>\n",
       "      <th>strike</th>\n",
       "      <th>cvol</th>\n",
       "      <th>expiration_date</th>\n",
       "      <th>root_sym</th>\n",
       "      <th>type</th>\n",
       "    </tr>\n",
       "  </thead>\n",
       "  <tbody>\n",
       "    <tr>\n",
       "      <th>0</th>\n",
       "      <td>157.5</td>\n",
       "      <td>1811.0</td>\n",
       "      <td>2021-09-17</td>\n",
       "      <td>AAPL</td>\n",
       "      <td>call</td>\n",
       "    </tr>\n",
       "    <tr>\n",
       "      <th>1</th>\n",
       "      <td>157.5</td>\n",
       "      <td>1554.0</td>\n",
       "      <td>2021-09-17</td>\n",
       "      <td>AAPL</td>\n",
       "      <td>put</td>\n",
       "    </tr>\n",
       "  </tbody>\n",
       "</table>\n",
       "</div>"
      ],
      "text/plain": [
       "   strike    cvol expiration_date root_sym  type\n",
       "0   157.5  1811.0      2021-09-17     AAPL  call\n",
       "1   157.5  1554.0      2021-09-17     AAPL   put"
      ]
     },
     "execution_count": 23,
     "metadata": {},
     "output_type": "execute_result"
    }
   ],
   "source": [
    "latest"
   ]
  },
  {
   "cell_type": "code",
   "execution_count": 201,
   "id": "028877b5",
   "metadata": {},
   "outputs": [
    {
     "ename": "NameError",
     "evalue": "name 'pltdf' is not defined",
     "output_type": "error",
     "traceback": [
      "\u001b[0;31m---------------------------------------------------------------------------\u001b[0m",
      "\u001b[0;31mNameError\u001b[0m                                 Traceback (most recent call last)",
      "\u001b[0;32m<ipython-input-201-d4fb4e8a4da7>\u001b[0m in \u001b[0;36m<module>\u001b[0;34m\u001b[0m\n\u001b[0;32m----> 1\u001b[0;31m fig = px.scatter(pltdf, \n\u001b[0m\u001b[1;32m      2\u001b[0m                  \u001b[0mx\u001b[0m\u001b[0;34m=\u001b[0m\u001b[0;34m'strike'\u001b[0m\u001b[0;34m,\u001b[0m\u001b[0;34m\u001b[0m\u001b[0;34m\u001b[0m\u001b[0m\n\u001b[1;32m      3\u001b[0m                  \u001b[0my\u001b[0m\u001b[0;34m=\u001b[0m\u001b[0;34m'cvol'\u001b[0m\u001b[0;34m,\u001b[0m\u001b[0;34m\u001b[0m\u001b[0;34m\u001b[0m\u001b[0m\n\u001b[1;32m      4\u001b[0m                  \u001b[0mcolor\u001b[0m\u001b[0;34m=\u001b[0m\u001b[0;34m'type'\u001b[0m\u001b[0;34m,\u001b[0m\u001b[0;34m\u001b[0m\u001b[0;34m\u001b[0m\u001b[0m\n\u001b[1;32m      5\u001b[0m                  \u001b[0mlabels\u001b[0m\u001b[0;34m=\u001b[0m\u001b[0;34m{\u001b[0m\u001b[0;34m'strike'\u001b[0m\u001b[0;34m:\u001b[0m\u001b[0;34m'Strike Price'\u001b[0m\u001b[0;34m,\u001b[0m \u001b[0;34m'cvol'\u001b[0m\u001b[0;34m:\u001b[0m\u001b[0;34m'Volume'\u001b[0m\u001b[0;34m,\u001b[0m \u001b[0;34m'type'\u001b[0m\u001b[0;34m:\u001b[0m\u001b[0;34m'Type'\u001b[0m\u001b[0;34m}\u001b[0m\u001b[0;34m,\u001b[0m\u001b[0;34m\u001b[0m\u001b[0;34m\u001b[0m\u001b[0m\n",
      "\u001b[0;31mNameError\u001b[0m: name 'pltdf' is not defined"
     ]
    }
   ],
   "source": [
    "fig = px.scatter(pltdf, \n",
    "                 x='strike', \n",
    "                 y='cvol', \n",
    "                 color='type',\n",
    "                 labels={'strike':'Strike Price', 'cvol':'Volume', 'type':'Type'},\n",
    "                 color_discrete_sequence=[plot_settings.color_list[1],plot_settings.color_list[4]]).update_traces(mode='lines')\n",
    "\n",
    "fig.add_vline(x=yahoohist['Open'][0], \n",
    "              line_width=2., \n",
    "              line_dash=\"dot\", \n",
    "              line_color=\"#919191\",\n",
    "              annotation_text=f\" Open: {yahoohist['Open'][0]:,.0f}\", \n",
    "              annotation_position=\"top\",\n",
    "              annotation_textangle=-90,\n",
    "              annotation_font_size=10.5,\n",
    "              annotation_font_color=\"#919191\")\n",
    "\n",
    "fig.add_vline(x=yahoohist['Close'][-1], \n",
    "              line_width=2.5, \n",
    "              line_dash=\"dot\", \n",
    "              line_color=\"#121212\",\n",
    "              annotation_text=f\" Close: {yahoohist['Close'][-1]:,.0f}\", \n",
    "              annotation_align='left',\n",
    "              annotation_position=\"top\",\n",
    "              annotation_textangle=-90,\n",
    "              annotation_font_size=10.5,\n",
    "              annotation_font_color='#121212')\n",
    "\n",
    "fig.update_layout(template=plot_settings.dockstreet_template,\n",
    "                  margin=dict(t=100),\n",
    "                  legend_title=\"\",\n",
    "                  title=dict(font_size=22,\n",
    "                            x=0.03,\n",
    "                            y=.98,\n",
    "                            yref='container',\n",
    "                            text=f\"<b>{company}: Calls & puts for week ending {week.strftime('%b %-d, %Y')}</b>\",\n",
    "                            font_color=\"#4c4c4c\",\n",
    "                            xanchor='left'),\n",
    "                  legend=dict(\n",
    "                        font=dict(size=14)\n",
    "                    ))\n",
    "\n",
    "fig.update_xaxes(showgrid=False,\n",
    "                 range=[tru_rangest-1, tru_rangeend])\n",
    "\n",
    "for ser in fig['data']:\n",
    "    ser['name'] = ser['name'].title()\n",
    "    \n",
    "fig.show()"
   ]
  },
  {
   "cell_type": "code",
   "execution_count": 25,
   "id": "4cd10497",
   "metadata": {},
   "outputs": [
    {
     "data": {
      "text/plain": [
       "147.0"
      ]
     },
     "execution_count": 25,
     "metadata": {},
     "output_type": "execute_result"
    }
   ],
   "source": [
    "pltdf[pltdf.cvol==pltdf.cvol.max()]['strike'].values[0]"
   ]
  },
  {
   "cell_type": "markdown",
   "id": "d9a7d1b6",
   "metadata": {},
   "source": [
    "---"
   ]
  },
  {
   "cell_type": "markdown",
   "id": "9ddf3815",
   "metadata": {},
   "source": [
    "#### Daily animation "
   ]
  },
  {
   "cell_type": "code",
   "execution_count": 39,
   "id": "8c8c21e1",
   "metadata": {},
   "outputs": [],
   "source": [
    "an1 = df.filter(['strike','open_int','expiration_date','root_sym'])\n",
    "an1['type'] = 'call'\n",
    "an2 = df.filter(['strike','open_int_p','expiration_date','root_sym'])\n",
    "an2['type'] = 'put'\n",
    "an2 = an2.rename(columns={'open_int_p':'open_int'})\n",
    "\n",
    "an = pd.concat([an1,an2])"
   ]
  },
  {
   "cell_type": "code",
   "execution_count": 40,
   "id": "5e2760c0",
   "metadata": {},
   "outputs": [
    {
     "data": {
      "text/plain": [
       "array(['2021-09-17T00:00:00.000000000', '2021-09-24T00:00:00.000000000',\n",
       "       '2021-10-01T00:00:00.000000000', '2021-10-08T00:00:00.000000000',\n",
       "       '2021-10-15T00:00:00.000000000', '2021-10-22T00:00:00.000000000',\n",
       "       '2021-10-29T00:00:00.000000000', '2021-11-19T00:00:00.000000000'],\n",
       "      dtype='datetime64[ns]')"
      ]
     },
     "execution_count": 40,
     "metadata": {},
     "output_type": "execute_result"
    }
   ],
   "source": [
    "an['expiration_date'].unique()"
   ]
  },
  {
   "cell_type": "code",
   "execution_count": 41,
   "id": "3af1f4df",
   "metadata": {},
   "outputs": [],
   "source": [
    "date_dict = {datetime(2021,11,19):datetime(2021,11,19),\n",
    "             datetime(2021,10,29):datetime(2021,11,18),\n",
    "             datetime(2021,10,22):datetime(2021,11,17),\n",
    "             datetime(2021,10,15):datetime(2021,11,16),\n",
    "             datetime(2021,10,8):datetime(2021,11,15)}\n",
    "\n",
    "an = an.assign(date=lambda t: t.expiration_date.map(date_dict),\n",
    "               daywk=lambda t: t['date'].dt.strftime('%a'))\n",
    "an = an[an.date.notnull()]"
   ]
  },
  {
   "cell_type": "code",
   "execution_count": 51,
   "id": "62a0ae4c",
   "metadata": {},
   "outputs": [],
   "source": [
    "y_range_st = an.open_int.min()\n",
    "y_range_end = an.open_int.max() + 2"
   ]
  },
  {
   "cell_type": "code",
   "execution_count": 71,
   "id": "4e2f2be0",
   "metadata": {},
   "outputs": [],
   "source": [
    "yahoohist = yahoo.history(start = datetime(2021,11,15), end = datetime(2021,11,20))\n",
    "close = yahoohist['Close'][-1]\n",
    "min_close = yahoohist['Close'].min()\n",
    "max_close = yahoohist['Close'].max()\n",
    "range_st = min_close - min_close*.08\n",
    "range_end = max_close + max_close*.08\n",
    "\n",
    "an = an[(an.strike>=range_st) & (an.strike<=range_end)]\n",
    "\n",
    "tru_rangest = an.strike.min()\n",
    "tru_rangeend = an.strike.max()"
   ]
  },
  {
   "cell_type": "code",
   "execution_count": 72,
   "id": "42a15f84",
   "metadata": {},
   "outputs": [
    {
     "data": {
      "text/html": [
       "<div>\n",
       "<style scoped>\n",
       "    .dataframe tbody tr th:only-of-type {\n",
       "        vertical-align: middle;\n",
       "    }\n",
       "\n",
       "    .dataframe tbody tr th {\n",
       "        vertical-align: top;\n",
       "    }\n",
       "\n",
       "    .dataframe thead th {\n",
       "        text-align: right;\n",
       "    }\n",
       "</style>\n",
       "<table border=\"1\" class=\"dataframe\">\n",
       "  <thead>\n",
       "    <tr style=\"text-align: right;\">\n",
       "      <th></th>\n",
       "      <th>Open</th>\n",
       "      <th>High</th>\n",
       "      <th>Low</th>\n",
       "      <th>Close</th>\n",
       "      <th>Volume</th>\n",
       "      <th>Dividends</th>\n",
       "      <th>Stock Splits</th>\n",
       "    </tr>\n",
       "    <tr>\n",
       "      <th>Date</th>\n",
       "      <th></th>\n",
       "      <th></th>\n",
       "      <th></th>\n",
       "      <th></th>\n",
       "      <th></th>\n",
       "      <th></th>\n",
       "      <th></th>\n",
       "    </tr>\n",
       "  </thead>\n",
       "  <tbody>\n",
       "    <tr>\n",
       "      <th>2021-11-15</th>\n",
       "      <td>150.369995</td>\n",
       "      <td>151.880005</td>\n",
       "      <td>149.429993</td>\n",
       "      <td>150.000000</td>\n",
       "      <td>59222800</td>\n",
       "      <td>0</td>\n",
       "      <td>0</td>\n",
       "    </tr>\n",
       "    <tr>\n",
       "      <th>2021-11-16</th>\n",
       "      <td>149.940002</td>\n",
       "      <td>151.490005</td>\n",
       "      <td>149.339996</td>\n",
       "      <td>151.000000</td>\n",
       "      <td>59256200</td>\n",
       "      <td>0</td>\n",
       "      <td>0</td>\n",
       "    </tr>\n",
       "    <tr>\n",
       "      <th>2021-11-17</th>\n",
       "      <td>151.000000</td>\n",
       "      <td>155.000000</td>\n",
       "      <td>150.990005</td>\n",
       "      <td>153.490005</td>\n",
       "      <td>88807000</td>\n",
       "      <td>0</td>\n",
       "      <td>0</td>\n",
       "    </tr>\n",
       "    <tr>\n",
       "      <th>2021-11-18</th>\n",
       "      <td>153.710007</td>\n",
       "      <td>158.669998</td>\n",
       "      <td>153.050003</td>\n",
       "      <td>157.869995</td>\n",
       "      <td>137827700</td>\n",
       "      <td>0</td>\n",
       "      <td>0</td>\n",
       "    </tr>\n",
       "    <tr>\n",
       "      <th>2021-11-19</th>\n",
       "      <td>157.649994</td>\n",
       "      <td>161.020004</td>\n",
       "      <td>156.529999</td>\n",
       "      <td>160.550003</td>\n",
       "      <td>117305600</td>\n",
       "      <td>0</td>\n",
       "      <td>0</td>\n",
       "    </tr>\n",
       "  </tbody>\n",
       "</table>\n",
       "</div>"
      ],
      "text/plain": [
       "                  Open        High         Low       Close     Volume  \\\n",
       "Date                                                                    \n",
       "2021-11-15  150.369995  151.880005  149.429993  150.000000   59222800   \n",
       "2021-11-16  149.940002  151.490005  149.339996  151.000000   59256200   \n",
       "2021-11-17  151.000000  155.000000  150.990005  153.490005   88807000   \n",
       "2021-11-18  153.710007  158.669998  153.050003  157.869995  137827700   \n",
       "2021-11-19  157.649994  161.020004  156.529999  160.550003  117305600   \n",
       "\n",
       "            Dividends  Stock Splits  \n",
       "Date                                 \n",
       "2021-11-15          0             0  \n",
       "2021-11-16          0             0  \n",
       "2021-11-17          0             0  \n",
       "2021-11-18          0             0  \n",
       "2021-11-19          0             0  "
      ]
     },
     "execution_count": 72,
     "metadata": {},
     "output_type": "execute_result"
    }
   ],
   "source": [
    "yahoohist"
   ]
  },
  {
   "cell_type": "code",
   "execution_count": 111,
   "id": "6a5e1bda",
   "metadata": {},
   "outputs": [
    {
     "ename": "NameError",
     "evalue": "name 'pltdf' is not defined",
     "output_type": "error",
     "traceback": [
      "\u001b[0;31m---------------------------------------------------------------------------\u001b[0m",
      "\u001b[0;31mNameError\u001b[0m                                 Traceback (most recent call last)",
      "\u001b[0;32m<ipython-input-111-d4fb4e8a4da7>\u001b[0m in \u001b[0;36m<module>\u001b[0;34m\u001b[0m\n\u001b[0;32m----> 1\u001b[0;31m fig = px.scatter(pltdf, \n\u001b[0m\u001b[1;32m      2\u001b[0m                  \u001b[0mx\u001b[0m\u001b[0;34m=\u001b[0m\u001b[0;34m'strike'\u001b[0m\u001b[0;34m,\u001b[0m\u001b[0;34m\u001b[0m\u001b[0;34m\u001b[0m\u001b[0m\n\u001b[1;32m      3\u001b[0m                  \u001b[0my\u001b[0m\u001b[0;34m=\u001b[0m\u001b[0;34m'cvol'\u001b[0m\u001b[0;34m,\u001b[0m\u001b[0;34m\u001b[0m\u001b[0;34m\u001b[0m\u001b[0m\n\u001b[1;32m      4\u001b[0m                  \u001b[0mcolor\u001b[0m\u001b[0;34m=\u001b[0m\u001b[0;34m'type'\u001b[0m\u001b[0;34m,\u001b[0m\u001b[0;34m\u001b[0m\u001b[0;34m\u001b[0m\u001b[0m\n\u001b[1;32m      5\u001b[0m                  \u001b[0mlabels\u001b[0m\u001b[0;34m=\u001b[0m\u001b[0;34m{\u001b[0m\u001b[0;34m'strike'\u001b[0m\u001b[0;34m:\u001b[0m\u001b[0;34m'Strike Price'\u001b[0m\u001b[0;34m,\u001b[0m \u001b[0;34m'cvol'\u001b[0m\u001b[0;34m:\u001b[0m\u001b[0;34m'Volume'\u001b[0m\u001b[0;34m,\u001b[0m \u001b[0;34m'type'\u001b[0m\u001b[0;34m:\u001b[0m\u001b[0;34m'Type'\u001b[0m\u001b[0;34m}\u001b[0m\u001b[0;34m,\u001b[0m\u001b[0;34m\u001b[0m\u001b[0;34m\u001b[0m\u001b[0m\n",
      "\u001b[0;31mNameError\u001b[0m: name 'pltdf' is not defined"
     ]
    }
   ],
   "source": [
    "fig = px.scatter(pltdf, \n",
    "                 x='strike', \n",
    "                 y='cvol', \n",
    "                 color='type',\n",
    "                 labels={'strike':'Strike Price', 'cvol':'Volume', 'type':'Type'},\n",
    "                 color_discrete_sequence=[plot_settings.color_list[1],plot_settings.color_list[4]]).update_traces(mode='lines')\n",
    "\n",
    "fig.add_vline(x=yahoohist['Open'][0], \n",
    "              line_width=2., \n",
    "              line_dash=\"dot\", \n",
    "              line_color=\"#919191\",\n",
    "              annotation_text=f\" Open: {yahoohist['Open'][0]:,.0f}\", \n",
    "              annotation_position=\"top\",\n",
    "              annotation_textangle=-90,\n",
    "              annotation_font_size=10.5,\n",
    "              annotation_font_color=\"#919191\")\n",
    "\n",
    "fig.add_vline(x=yahoohist['Close'][-1], \n",
    "              line_width=2.5, \n",
    "              line_dash=\"dot\", \n",
    "              line_color=\"#121212\",\n",
    "              annotation_text=f\" Close: {yahoohist['Close'][-1]:,.0f}\", \n",
    "              annotation_align='left',\n",
    "              annotation_position=\"top\",\n",
    "              annotation_textangle=-90,\n",
    "              annotation_font_size=10.5,\n",
    "              annotation_font_color='#121212')\n",
    "\n",
    "fig.update_layout(template=plot_settings.dockstreet_template,\n",
    "                  margin=dict(t=100),\n",
    "                  legend_title=\"\",\n",
    "                  title=dict(font_size=22,\n",
    "                            x=0.03,\n",
    "                            y=.98,\n",
    "                            yref='container',\n",
    "                            text=f\"<b>{company}: Calls & puts for week ending {week.strftime('%b %-d, %Y')}</b>\",\n",
    "                            font_color=\"#4c4c4c\",\n",
    "                            xanchor='left'),\n",
    "                  legend=dict(\n",
    "                        font=dict(size=14)\n",
    "                    ))\n",
    "\n",
    "fig.update_xaxes(showgrid=False,\n",
    "                 range=[tru_rangest-1, tru_rangeend])\n",
    "\n",
    "for ser in fig['data']:\n",
    "    ser['name'] = ser['name'].title()\n",
    "    \n",
    "fig.show()"
   ]
  },
  {
   "cell_type": "code",
   "execution_count": 73,
   "id": "935759d8",
   "metadata": {},
   "outputs": [],
   "source": [
    "yahoohist = yahoohist.reset_index()\n",
    "yahoohist = yahoohist.assign(daywk=lambda t: t['Date'].dt.strftime('%a'))"
   ]
  },
  {
   "cell_type": "code",
   "execution_count": 74,
   "id": "93e19457",
   "metadata": {},
   "outputs": [
    {
     "data": {
      "text/html": [
       "<div>\n",
       "<style scoped>\n",
       "    .dataframe tbody tr th:only-of-type {\n",
       "        vertical-align: middle;\n",
       "    }\n",
       "\n",
       "    .dataframe tbody tr th {\n",
       "        vertical-align: top;\n",
       "    }\n",
       "\n",
       "    .dataframe thead th {\n",
       "        text-align: right;\n",
       "    }\n",
       "</style>\n",
       "<table border=\"1\" class=\"dataframe\">\n",
       "  <thead>\n",
       "    <tr style=\"text-align: right;\">\n",
       "      <th></th>\n",
       "      <th>Date</th>\n",
       "      <th>Open</th>\n",
       "      <th>High</th>\n",
       "      <th>Low</th>\n",
       "      <th>Close</th>\n",
       "      <th>Volume</th>\n",
       "      <th>Dividends</th>\n",
       "      <th>Stock Splits</th>\n",
       "      <th>daywk</th>\n",
       "    </tr>\n",
       "  </thead>\n",
       "  <tbody>\n",
       "    <tr>\n",
       "      <th>0</th>\n",
       "      <td>2021-11-15</td>\n",
       "      <td>150.369995</td>\n",
       "      <td>151.880005</td>\n",
       "      <td>149.429993</td>\n",
       "      <td>150.000000</td>\n",
       "      <td>59222800</td>\n",
       "      <td>0</td>\n",
       "      <td>0</td>\n",
       "      <td>Mon</td>\n",
       "    </tr>\n",
       "    <tr>\n",
       "      <th>1</th>\n",
       "      <td>2021-11-16</td>\n",
       "      <td>149.940002</td>\n",
       "      <td>151.490005</td>\n",
       "      <td>149.339996</td>\n",
       "      <td>151.000000</td>\n",
       "      <td>59256200</td>\n",
       "      <td>0</td>\n",
       "      <td>0</td>\n",
       "      <td>Tue</td>\n",
       "    </tr>\n",
       "    <tr>\n",
       "      <th>2</th>\n",
       "      <td>2021-11-17</td>\n",
       "      <td>151.000000</td>\n",
       "      <td>155.000000</td>\n",
       "      <td>150.990005</td>\n",
       "      <td>153.490005</td>\n",
       "      <td>88807000</td>\n",
       "      <td>0</td>\n",
       "      <td>0</td>\n",
       "      <td>Wed</td>\n",
       "    </tr>\n",
       "    <tr>\n",
       "      <th>3</th>\n",
       "      <td>2021-11-18</td>\n",
       "      <td>153.710007</td>\n",
       "      <td>158.669998</td>\n",
       "      <td>153.050003</td>\n",
       "      <td>157.869995</td>\n",
       "      <td>137827700</td>\n",
       "      <td>0</td>\n",
       "      <td>0</td>\n",
       "      <td>Thu</td>\n",
       "    </tr>\n",
       "    <tr>\n",
       "      <th>4</th>\n",
       "      <td>2021-11-19</td>\n",
       "      <td>157.649994</td>\n",
       "      <td>161.020004</td>\n",
       "      <td>156.529999</td>\n",
       "      <td>160.550003</td>\n",
       "      <td>117305600</td>\n",
       "      <td>0</td>\n",
       "      <td>0</td>\n",
       "      <td>Fri</td>\n",
       "    </tr>\n",
       "  </tbody>\n",
       "</table>\n",
       "</div>"
      ],
      "text/plain": [
       "        Date        Open        High         Low       Close     Volume  \\\n",
       "0 2021-11-15  150.369995  151.880005  149.429993  150.000000   59222800   \n",
       "1 2021-11-16  149.940002  151.490005  149.339996  151.000000   59256200   \n",
       "2 2021-11-17  151.000000  155.000000  150.990005  153.490005   88807000   \n",
       "3 2021-11-18  153.710007  158.669998  153.050003  157.869995  137827700   \n",
       "4 2021-11-19  157.649994  161.020004  156.529999  160.550003  117305600   \n",
       "\n",
       "   Dividends  Stock Splits daywk  \n",
       "0          0             0   Mon  \n",
       "1          0             0   Tue  \n",
       "2          0             0   Wed  \n",
       "3          0             0   Thu  \n",
       "4          0             0   Fri  "
      ]
     },
     "execution_count": 74,
     "metadata": {},
     "output_type": "execute_result"
    }
   ],
   "source": [
    "yahoohist"
   ]
  },
  {
   "cell_type": "code",
   "execution_count": 202,
   "id": "78702d4d",
   "metadata": {
    "scrolled": false
   },
   "outputs": [
    {
     "data": {
      "application/vnd.plotly.v1+json": {
       "config": {
        "plotlyServerURL": "https://plot.ly"
       },
       "data": [
        {
         "mode": "lines",
         "name": "Call",
         "type": "scatter",
         "x": [
          138,
          139,
          140,
          141,
          142,
          143,
          144,
          145,
          146,
          147,
          148,
          149,
          150,
          155,
          160,
          165,
          170
         ],
         "y": [
          34,
          70,
          434,
          911,
          539,
          45,
          167,
          592,
          350,
          486,
          1403,
          1580,
          4721,
          7574,
          9631,
          4069,
          2816
         ]
        },
        {
         "mode": "lines",
         "name": "Put",
         "type": "scatter",
         "x": [
          138,
          139,
          140,
          141,
          142,
          143,
          144,
          145,
          146,
          147,
          148,
          149,
          150,
          155,
          160,
          165,
          170
         ],
         "y": [
          795,
          1048,
          2734,
          611,
          929,
          724,
          846,
          1785,
          1375,
          3023,
          1721,
          12104,
          3718,
          1296,
          581,
          295,
          123
         ]
        }
       ],
       "frames": [
        {
         "data": [
          {
           "mode": "lines",
           "name": "Call",
           "type": "scatter",
           "x": [
            138,
            139,
            140,
            141,
            142,
            143,
            144,
            145,
            146,
            147,
            148,
            149,
            150,
            155,
            160,
            165,
            170
           ],
           "y": [
            34,
            70,
            434,
            911,
            539,
            45,
            167,
            592,
            350,
            486,
            1403,
            1580,
            4721,
            7574,
            9631,
            4069,
            2816
           ]
          },
          {
           "mode": "lines",
           "name": "Put",
           "type": "scatter",
           "x": [
            138,
            139,
            140,
            141,
            142,
            143,
            144,
            145,
            146,
            147,
            148,
            149,
            150,
            155,
            160,
            165,
            170
           ],
           "y": [
            795,
            1048,
            2734,
            611,
            929,
            724,
            846,
            1785,
            1375,
            3023,
            1721,
            12104,
            3718,
            1296,
            581,
            295,
            123
           ]
          }
         ],
         "layout": {
          "annotations": [
           {
            "font": {
             "color": "#919191",
             "size": 10.5
            },
            "showarrow": false,
            "text": " Open: 150",
            "textangle": -90,
            "x": 150.3699951171875,
            "y": 122487,
            "yanchor": "bottom"
           },
           {
            "font": {
             "color": "#121212",
             "size": 10.5
            },
            "showarrow": false,
            "text": " Close: 150",
            "textangle": -90,
            "x": 150,
            "y": 122487,
            "yanchor": "bottom"
           }
          ],
          "shapes": [
           {
            "line": {
             "color": "#919191",
             "dash": "dot",
             "width": 2
            },
            "type": "line",
            "x0": 150.3699951171875,
            "x1": 150.3699951171875,
            "xref": "x",
            "y0": 0,
            "y1": 122487,
            "yref": "y"
           },
           {
            "line": {
             "color": "#121212",
             "dash": "dot",
             "width": 2.5
            },
            "type": "line",
            "x0": 150,
            "x1": 150,
            "xref": "x",
            "y0": 0,
            "y1": 122487,
            "yref": "y"
           }
          ]
         },
         "name": "Mon"
        },
        {
         "data": [
          {
           "mode": "lines",
           "name": "Call",
           "type": "scatter",
           "x": [
            140,
            145,
            150,
            155,
            160,
            165,
            170
           ],
           "y": [
            32191,
            60769,
            122485,
            101564,
            64282,
            76781,
            41308
           ]
          },
          {
           "mode": "lines",
           "name": "Put",
           "type": "scatter",
           "x": [
            140,
            145,
            150,
            155,
            160,
            165,
            170
           ],
           "y": [
            45930,
            78643,
            100530,
            50109,
            13783,
            3306,
            1122
           ]
          }
         ],
         "layout": {
          "annotations": [
           {
            "font": {
             "color": "#919191",
             "size": 10.5
            },
            "showarrow": false,
            "text": " Open: 150",
            "textangle": -90,
            "x": 149.94000244140625,
            "y": 122487,
            "yanchor": "bottom"
           },
           {
            "font": {
             "color": "#121212",
             "size": 10.5
            },
            "showarrow": false,
            "text": " Close: 151",
            "textangle": -90,
            "x": 151,
            "y": 122487,
            "yanchor": "bottom"
           }
          ],
          "shapes": [
           {
            "line": {
             "color": "#919191",
             "dash": "dot",
             "width": 2
            },
            "type": "line",
            "x0": 149.94000244140625,
            "x1": 149.94000244140625,
            "xref": "x",
            "y0": 0,
            "y1": 122487,
            "yref": "y"
           },
           {
            "line": {
             "color": "#121212",
             "dash": "dot",
             "width": 2.5
            },
            "type": "line",
            "x0": 151,
            "x1": 151,
            "xref": "x",
            "y0": 0,
            "y1": 122487,
            "yref": "y"
           }
          ]
         },
         "name": "Tue"
        },
        {
         "data": [
          {
           "mode": "lines",
           "name": "Call",
           "type": "scatter",
           "x": [
            138,
            139,
            140,
            141,
            142,
            143,
            144,
            145,
            146,
            147,
            148,
            149,
            150,
            155,
            160,
            165,
            170
           ],
           "y": [
            105,
            6,
            30577,
            101,
            134,
            100,
            44,
            320,
            165,
            403,
            883,
            744,
            30804,
            4601,
            22158,
            4189,
            12779
           ]
          },
          {
           "mode": "lines",
           "name": "Put",
           "type": "scatter",
           "x": [
            138,
            139,
            140,
            141,
            142,
            143,
            144,
            145,
            146,
            147,
            148,
            149,
            150,
            155,
            160,
            165,
            170
           ],
           "y": [
            284,
            222,
            1834,
            595,
            358,
            1157,
            734,
            1566,
            478,
            627,
            1003,
            532,
            6379,
            1338,
            404,
            118,
            75
           ]
          }
         ],
         "layout": {
          "annotations": [
           {
            "font": {
             "color": "#919191",
             "size": 10.5
            },
            "showarrow": false,
            "text": " Open: 151",
            "textangle": -90,
            "x": 151,
            "y": 122487,
            "yanchor": "bottom"
           },
           {
            "font": {
             "color": "#121212",
             "size": 10.5
            },
            "showarrow": false,
            "text": " Close: 153",
            "textangle": -90,
            "x": 153.49000549316406,
            "y": 122487,
            "yanchor": "bottom"
           }
          ],
          "shapes": [
           {
            "line": {
             "color": "#919191",
             "dash": "dot",
             "width": 2
            },
            "type": "line",
            "x0": 151,
            "x1": 151,
            "xref": "x",
            "y0": 0,
            "y1": 122487,
            "yref": "y"
           },
           {
            "line": {
             "color": "#121212",
             "dash": "dot",
             "width": 2.5
            },
            "type": "line",
            "x0": 153.49000549316406,
            "x1": 153.49000549316406,
            "xref": "x",
            "y0": 0,
            "y1": 122487,
            "yref": "y"
           }
          ]
         },
         "name": "Wed"
        },
        {
         "data": [
          {
           "mode": "lines",
           "name": "Call",
           "type": "scatter",
           "x": [
            138,
            139,
            140,
            141,
            142,
            143,
            144,
            145,
            146,
            147,
            148,
            149,
            150,
            155,
            160,
            165,
            170
           ],
           "y": [
            209,
            22,
            106,
            135,
            30,
            527,
            111,
            291,
            125,
            340,
            383,
            605,
            3536,
            1805,
            2766,
            2270,
            2734
           ]
          },
          {
           "mode": "lines",
           "name": "Put",
           "type": "scatter",
           "x": [
            138,
            139,
            140,
            141,
            142,
            143,
            144,
            145,
            146,
            147,
            148,
            149,
            150,
            155,
            160,
            165,
            170
           ],
           "y": [
            510,
            306,
            989,
            187,
            308,
            358,
            230,
            786,
            359,
            477,
            265,
            1157,
            798,
            371,
            131,
            3,
            0
           ]
          }
         ],
         "layout": {
          "annotations": [
           {
            "font": {
             "color": "#919191",
             "size": 10.5
            },
            "showarrow": false,
            "text": " Open: 154",
            "textangle": -90,
            "x": 153.7100067138672,
            "y": 122487,
            "yanchor": "bottom"
           },
           {
            "font": {
             "color": "#121212",
             "size": 10.5
            },
            "showarrow": false,
            "text": " Close: 158",
            "textangle": -90,
            "x": 157.8699951171875,
            "y": 122487,
            "yanchor": "bottom"
           }
          ],
          "shapes": [
           {
            "line": {
             "color": "#919191",
             "dash": "dot",
             "width": 2
            },
            "type": "line",
            "x0": 153.7100067138672,
            "x1": 153.7100067138672,
            "xref": "x",
            "y0": 0,
            "y1": 122487,
            "yref": "y"
           },
           {
            "line": {
             "color": "#121212",
             "dash": "dot",
             "width": 2.5
            },
            "type": "line",
            "x0": 157.8699951171875,
            "x1": 157.8699951171875,
            "xref": "x",
            "y0": 0,
            "y1": 122487,
            "yref": "y"
           }
          ]
         },
         "name": "Thu"
        },
        {
         "data": [
          {
           "mode": "lines",
           "name": "Call",
           "type": "scatter",
           "x": [
            140,
            145,
            150,
            155,
            160,
            165,
            170
           ],
           "y": [
            9449,
            11942,
            67588,
            32172,
            56450,
            19183,
            12464
           ]
          },
          {
           "mode": "lines",
           "name": "Put",
           "type": "scatter",
           "x": [
            140,
            145,
            150,
            155,
            160,
            165,
            170
           ],
           "y": [
            20809,
            18259,
            14911,
            4897,
            3216,
            1100,
            426
           ]
          }
         ],
         "layout": {
          "annotations": [
           {
            "font": {
             "color": "#919191",
             "size": 10.5
            },
            "showarrow": false,
            "text": " Open: 158",
            "textangle": -90,
            "x": 157.64999389648438,
            "y": 122487,
            "yanchor": "bottom"
           },
           {
            "font": {
             "color": "#121212",
             "size": 10.5
            },
            "showarrow": false,
            "text": " Close: 161",
            "textangle": -90,
            "x": 160.5500030517578,
            "y": 122487,
            "yanchor": "bottom"
           }
          ],
          "shapes": [
           {
            "line": {
             "color": "#919191",
             "dash": "dot",
             "width": 2
            },
            "type": "line",
            "x0": 157.64999389648438,
            "x1": 157.64999389648438,
            "xref": "x",
            "y0": 0,
            "y1": 122487,
            "yref": "y"
           },
           {
            "line": {
             "color": "#121212",
             "dash": "dot",
             "width": 2.5
            },
            "type": "line",
            "x0": 160.5500030517578,
            "x1": 160.5500030517578,
            "xref": "x",
            "y0": 0,
            "y1": 122487,
            "yref": "y"
           }
          ]
         },
         "name": "Fri"
        }
       ],
       "layout": {
        "hovermode": "x",
        "legend": {
         "font": {
          "size": 14
         },
         "title": {
          "text": ""
         }
        },
        "margin": {
         "t": 110
        },
        "shapes": [
         {
          "line": {
           "color": "#919191",
           "dash": "dot",
           "width": 2
          },
          "type": "line",
          "x0": 150.3699951171875,
          "x1": 150.3699951171875,
          "xref": "x",
          "y0": 0,
          "y1": 122487,
          "yref": "y"
         },
         {
          "line": {
           "color": "#121212",
           "dash": "dot",
           "width": 2.5
          },
          "type": "line",
          "x0": 150,
          "x1": 150,
          "xref": "x",
          "y0": 0,
          "y1": 122487,
          "yref": "y"
         }
        ],
        "sliders": [
         {
          "active": 0,
          "currentvalue": {
           "font": {
            "size": 16
           },
           "prefix": "Day:",
           "visible": true,
           "xanchor": "right"
          },
          "len": 0.9,
          "pad": {
           "b": 10,
           "t": 50
          },
          "steps": [
           {
            "args": [
             [
              "Mon"
             ],
             {
              "frame": {
               "duration": 300,
               "redraw": false
              },
              "mode": "immediate",
              "transition": {
               "duration": 300
              }
             }
            ],
            "label": "Mon",
            "method": "animate"
           },
           {
            "args": [
             [
              "Tue"
             ],
             {
              "frame": {
               "duration": 300,
               "redraw": false
              },
              "mode": "immediate",
              "transition": {
               "duration": 300
              }
             }
            ],
            "label": "Tue",
            "method": "animate"
           },
           {
            "args": [
             [
              "Wed"
             ],
             {
              "frame": {
               "duration": 300,
               "redraw": false
              },
              "mode": "immediate",
              "transition": {
               "duration": 300
              }
             }
            ],
            "label": "Wed",
            "method": "animate"
           },
           {
            "args": [
             [
              "Thu"
             ],
             {
              "frame": {
               "duration": 300,
               "redraw": false
              },
              "mode": "immediate",
              "transition": {
               "duration": 300
              }
             }
            ],
            "label": "Thu",
            "method": "animate"
           },
           {
            "args": [
             [
              "Fri"
             ],
             {
              "frame": {
               "duration": 300,
               "redraw": false
              },
              "mode": "immediate",
              "transition": {
               "duration": 300
              }
             }
            ],
            "label": "Fri",
            "method": "animate"
           }
          ],
          "transition": {
           "duration": 300,
           "easing": "cubic-in-out"
          },
          "x": 0.1,
          "xanchor": "left",
          "y": 0,
          "yanchor": "top"
         }
        ],
        "template": {
         "layout": {
          "colorway": [
           "#0173c2",
           "#cd534c",
           "#868686",
           "#D8A360",
           "#7aa6dc",
           "#003c66"
          ],
          "font": {
           "color": "black",
           "family": "Avenir"
          },
          "hovermode": "closest",
          "mapbox": {
           "style": "light"
          },
          "paper_bgcolor": "#ffffff",
          "plot_bgcolor": "#ffffff",
          "xaxis": {
           "automargin": true,
           "gridcolor": "#e4e3e3",
           "linecolor": "#e4e3e3",
           "ticks": "",
           "zerolinecolor": "#e4e3e3",
           "zerolinewidth": 2
          },
          "yaxis": {
           "automargin": true,
           "gridcolor": "#e4e3e3",
           "linecolor": "#e4e3e3",
           "ticks": "",
           "title": {
            "standoff": 10
           },
           "zerolinecolor": "#e4e3e3",
           "zerolinewidth": 2
          }
         }
        },
        "title": {
         "font": {
          "color": "#4c4c4c",
          "size": 22
         },
         "text": "<b>Calls & puts for week ending something</b>",
         "x": 0.03,
         "xanchor": "left",
         "y": 0.98,
         "yref": "container"
        },
        "updatemenus": [
         {
          "buttons": [
           {
            "args": [
             null,
             {
              "frame": {
               "duration": 500,
               "redraw": false
              },
              "fromcurrent": true,
              "transition": {
               "duration": 300,
               "easing": "quadratic-in-out"
              }
             }
            ],
            "label": "Play",
            "method": "animate"
           },
           {
            "args": [
             [
              null
             ],
             {
              "frame": {
               "duration": 0,
               "redraw": false
              },
              "mode": "immediate",
              "transition": {
               "duration": 0
              }
             }
            ],
            "label": "Pause",
            "method": "animate"
           }
          ],
          "direction": "left",
          "pad": {
           "r": 10,
           "t": 87
          },
          "showactive": false,
          "type": "buttons",
          "x": 0.1,
          "xanchor": "right",
          "y": 0,
          "yanchor": "top"
         }
        ],
        "xaxis": {
         "range": [
          137,
          171
         ],
         "showgrid": false,
         "title": {
          "text": "Strike Price"
         }
        },
        "yaxis": {
         "range": [
          0,
          122487
         ],
         "title": {
          "text": "Open Interest"
         }
        }
       }
      },
      "text/html": [
       "<div>                            <div id=\"a7e1d3b6-637c-4816-82f5-4a67fbb60605\" class=\"plotly-graph-div\" style=\"height:525px; width:100%;\"></div>            <script type=\"text/javascript\">                require([\"plotly\"], function(Plotly) {                    window.PLOTLYENV=window.PLOTLYENV || {};                                    if (document.getElementById(\"a7e1d3b6-637c-4816-82f5-4a67fbb60605\")) {                    Plotly.newPlot(                        \"a7e1d3b6-637c-4816-82f5-4a67fbb60605\",                        [{\"mode\": \"lines\", \"name\": \"Call\", \"type\": \"scatter\", \"x\": [138.0, 139.0, 140.0, 141.0, 142.0, 143.0, 144.0, 145.0, 146.0, 147.0, 148.0, 149.0, 150.0, 155.0, 160.0, 165.0, 170.0], \"y\": [34.0, 70.0, 434.0, 911.0, 539.0, 45.0, 167.0, 592.0, 350.0, 486.0, 1403.0, 1580.0, 4721.0, 7574.0, 9631.0, 4069.0, 2816.0]}, {\"mode\": \"lines\", \"name\": \"Put\", \"type\": \"scatter\", \"x\": [138.0, 139.0, 140.0, 141.0, 142.0, 143.0, 144.0, 145.0, 146.0, 147.0, 148.0, 149.0, 150.0, 155.0, 160.0, 165.0, 170.0], \"y\": [795.0, 1048.0, 2734.0, 611.0, 929.0, 724.0, 846.0, 1785.0, 1375.0, 3023.0, 1721.0, 12104.0, 3718.0, 1296.0, 581.0, 295.0, 123.0]}],                        {\"hovermode\": \"x\", \"legend\": {\"font\": {\"size\": 14}, \"title\": {\"text\": \"\"}}, \"margin\": {\"t\": 110}, \"shapes\": [{\"line\": {\"color\": \"#919191\", \"dash\": \"dot\", \"width\": 2.0}, \"type\": \"line\", \"x0\": 150.3699951171875, \"x1\": 150.3699951171875, \"xref\": \"x\", \"y0\": 0.0, \"y1\": 122487.0, \"yref\": \"y\"}, {\"line\": {\"color\": \"#121212\", \"dash\": \"dot\", \"width\": 2.5}, \"type\": \"line\", \"x0\": 150.0, \"x1\": 150.0, \"xref\": \"x\", \"y0\": 0.0, \"y1\": 122487.0, \"yref\": \"y\"}], \"sliders\": [{\"active\": 0, \"currentvalue\": {\"font\": {\"size\": 16}, \"prefix\": \"Day:\", \"visible\": true, \"xanchor\": \"right\"}, \"len\": 0.9, \"pad\": {\"b\": 10, \"t\": 50}, \"steps\": [{\"args\": [[\"Mon\"], {\"frame\": {\"duration\": 300, \"redraw\": false}, \"mode\": \"immediate\", \"transition\": {\"duration\": 300}}], \"label\": \"Mon\", \"method\": \"animate\"}, {\"args\": [[\"Tue\"], {\"frame\": {\"duration\": 300, \"redraw\": false}, \"mode\": \"immediate\", \"transition\": {\"duration\": 300}}], \"label\": \"Tue\", \"method\": \"animate\"}, {\"args\": [[\"Wed\"], {\"frame\": {\"duration\": 300, \"redraw\": false}, \"mode\": \"immediate\", \"transition\": {\"duration\": 300}}], \"label\": \"Wed\", \"method\": \"animate\"}, {\"args\": [[\"Thu\"], {\"frame\": {\"duration\": 300, \"redraw\": false}, \"mode\": \"immediate\", \"transition\": {\"duration\": 300}}], \"label\": \"Thu\", \"method\": \"animate\"}, {\"args\": [[\"Fri\"], {\"frame\": {\"duration\": 300, \"redraw\": false}, \"mode\": \"immediate\", \"transition\": {\"duration\": 300}}], \"label\": \"Fri\", \"method\": \"animate\"}], \"transition\": {\"duration\": 300, \"easing\": \"cubic-in-out\"}, \"x\": 0.1, \"xanchor\": \"left\", \"y\": 0, \"yanchor\": \"top\"}], \"template\": {\"layout\": {\"colorway\": [\"#0173c2\", \"#cd534c\", \"#868686\", \"#D8A360\", \"#7aa6dc\", \"#003c66\"], \"font\": {\"color\": \"black\", \"family\": \"Avenir\"}, \"hovermode\": \"closest\", \"mapbox\": {\"style\": \"light\"}, \"paper_bgcolor\": \"#ffffff\", \"plot_bgcolor\": \"#ffffff\", \"xaxis\": {\"automargin\": true, \"gridcolor\": \"#e4e3e3\", \"linecolor\": \"#e4e3e3\", \"ticks\": \"\", \"zerolinecolor\": \"#e4e3e3\", \"zerolinewidth\": 2}, \"yaxis\": {\"automargin\": true, \"gridcolor\": \"#e4e3e3\", \"linecolor\": \"#e4e3e3\", \"ticks\": \"\", \"title\": {\"standoff\": 10}, \"zerolinecolor\": \"#e4e3e3\", \"zerolinewidth\": 2}}}, \"title\": {\"font\": {\"color\": \"#4c4c4c\", \"size\": 22}, \"text\": \"<b>Calls & puts for week ending something</b>\", \"x\": 0.03, \"xanchor\": \"left\", \"y\": 0.98, \"yref\": \"container\"}, \"updatemenus\": [{\"buttons\": [{\"args\": [null, {\"frame\": {\"duration\": 500, \"redraw\": false}, \"fromcurrent\": true, \"transition\": {\"duration\": 300, \"easing\": \"quadratic-in-out\"}}], \"label\": \"Play\", \"method\": \"animate\"}, {\"args\": [[null], {\"frame\": {\"duration\": 0, \"redraw\": false}, \"mode\": \"immediate\", \"transition\": {\"duration\": 0}}], \"label\": \"Pause\", \"method\": \"animate\"}], \"direction\": \"left\", \"pad\": {\"r\": 10, \"t\": 87}, \"showactive\": false, \"type\": \"buttons\", \"x\": 0.1, \"xanchor\": \"right\", \"y\": 0, \"yanchor\": \"top\"}], \"xaxis\": {\"range\": [137.0, 171.0], \"showgrid\": false, \"title\": {\"text\": \"Strike Price\"}}, \"yaxis\": {\"range\": [0.0, 122487.0], \"title\": {\"text\": \"Open Interest\"}}},                        {\"responsive\": true}                    ).then(function(){\n",
       "                            Plotly.addFrames('a7e1d3b6-637c-4816-82f5-4a67fbb60605', [{\"data\": [{\"mode\": \"lines\", \"name\": \"Call\", \"x\": [138.0, 139.0, 140.0, 141.0, 142.0, 143.0, 144.0, 145.0, 146.0, 147.0, 148.0, 149.0, 150.0, 155.0, 160.0, 165.0, 170.0], \"y\": [34.0, 70.0, 434.0, 911.0, 539.0, 45.0, 167.0, 592.0, 350.0, 486.0, 1403.0, 1580.0, 4721.0, 7574.0, 9631.0, 4069.0, 2816.0], \"type\": \"scatter\"}, {\"mode\": \"lines\", \"name\": \"Put\", \"x\": [138.0, 139.0, 140.0, 141.0, 142.0, 143.0, 144.0, 145.0, 146.0, 147.0, 148.0, 149.0, 150.0, 155.0, 160.0, 165.0, 170.0], \"y\": [795.0, 1048.0, 2734.0, 611.0, 929.0, 724.0, 846.0, 1785.0, 1375.0, 3023.0, 1721.0, 12104.0, 3718.0, 1296.0, 581.0, 295.0, 123.0], \"type\": \"scatter\"}], \"layout\": {\"annotations\": [{\"font\": {\"color\": \"#919191\", \"size\": 10.5}, \"showarrow\": false, \"text\": \" Open: 150\", \"textangle\": -90, \"x\": 150.3699951171875, \"y\": 122487.0, \"yanchor\": \"bottom\"}, {\"font\": {\"color\": \"#121212\", \"size\": 10.5}, \"showarrow\": false, \"text\": \" Close: 150\", \"textangle\": -90, \"x\": 150.0, \"y\": 122487.0, \"yanchor\": \"bottom\"}], \"shapes\": [{\"line\": {\"color\": \"#919191\", \"dash\": \"dot\", \"width\": 2.0}, \"type\": \"line\", \"x0\": 150.3699951171875, \"x1\": 150.3699951171875, \"xref\": \"x\", \"y0\": 0.0, \"y1\": 122487.0, \"yref\": \"y\"}, {\"line\": {\"color\": \"#121212\", \"dash\": \"dot\", \"width\": 2.5}, \"type\": \"line\", \"x0\": 150.0, \"x1\": 150.0, \"xref\": \"x\", \"y0\": 0.0, \"y1\": 122487.0, \"yref\": \"y\"}]}, \"name\": \"Mon\"}, {\"data\": [{\"mode\": \"lines\", \"name\": \"Call\", \"x\": [140.0, 145.0, 150.0, 155.0, 160.0, 165.0, 170.0], \"y\": [32191.0, 60769.0, 122485.0, 101564.0, 64282.0, 76781.0, 41308.0], \"type\": \"scatter\"}, {\"mode\": \"lines\", \"name\": \"Put\", \"x\": [140.0, 145.0, 150.0, 155.0, 160.0, 165.0, 170.0], \"y\": [45930.0, 78643.0, 100530.0, 50109.0, 13783.0, 3306.0, 1122.0], \"type\": \"scatter\"}], \"layout\": {\"annotations\": [{\"font\": {\"color\": \"#919191\", \"size\": 10.5}, \"showarrow\": false, \"text\": \" Open: 150\", \"textangle\": -90, \"x\": 149.94000244140625, \"y\": 122487.0, \"yanchor\": \"bottom\"}, {\"font\": {\"color\": \"#121212\", \"size\": 10.5}, \"showarrow\": false, \"text\": \" Close: 151\", \"textangle\": -90, \"x\": 151.0, \"y\": 122487.0, \"yanchor\": \"bottom\"}], \"shapes\": [{\"line\": {\"color\": \"#919191\", \"dash\": \"dot\", \"width\": 2.0}, \"type\": \"line\", \"x0\": 149.94000244140625, \"x1\": 149.94000244140625, \"xref\": \"x\", \"y0\": 0.0, \"y1\": 122487.0, \"yref\": \"y\"}, {\"line\": {\"color\": \"#121212\", \"dash\": \"dot\", \"width\": 2.5}, \"type\": \"line\", \"x0\": 151.0, \"x1\": 151.0, \"xref\": \"x\", \"y0\": 0.0, \"y1\": 122487.0, \"yref\": \"y\"}]}, \"name\": \"Tue\"}, {\"data\": [{\"mode\": \"lines\", \"name\": \"Call\", \"x\": [138.0, 139.0, 140.0, 141.0, 142.0, 143.0, 144.0, 145.0, 146.0, 147.0, 148.0, 149.0, 150.0, 155.0, 160.0, 165.0, 170.0], \"y\": [105.0, 6.0, 30577.0, 101.0, 134.0, 100.0, 44.0, 320.0, 165.0, 403.0, 883.0, 744.0, 30804.0, 4601.0, 22158.0, 4189.0, 12779.0], \"type\": \"scatter\"}, {\"mode\": \"lines\", \"name\": \"Put\", \"x\": [138.0, 139.0, 140.0, 141.0, 142.0, 143.0, 144.0, 145.0, 146.0, 147.0, 148.0, 149.0, 150.0, 155.0, 160.0, 165.0, 170.0], \"y\": [284.0, 222.0, 1834.0, 595.0, 358.0, 1157.0, 734.0, 1566.0, 478.0, 627.0, 1003.0, 532.0, 6379.0, 1338.0, 404.0, 118.0, 75.0], \"type\": \"scatter\"}], \"layout\": {\"annotations\": [{\"font\": {\"color\": \"#919191\", \"size\": 10.5}, \"showarrow\": false, \"text\": \" Open: 151\", \"textangle\": -90, \"x\": 151.0, \"y\": 122487.0, \"yanchor\": \"bottom\"}, {\"font\": {\"color\": \"#121212\", \"size\": 10.5}, \"showarrow\": false, \"text\": \" Close: 153\", \"textangle\": -90, \"x\": 153.49000549316406, \"y\": 122487.0, \"yanchor\": \"bottom\"}], \"shapes\": [{\"line\": {\"color\": \"#919191\", \"dash\": \"dot\", \"width\": 2.0}, \"type\": \"line\", \"x0\": 151.0, \"x1\": 151.0, \"xref\": \"x\", \"y0\": 0.0, \"y1\": 122487.0, \"yref\": \"y\"}, {\"line\": {\"color\": \"#121212\", \"dash\": \"dot\", \"width\": 2.5}, \"type\": \"line\", \"x0\": 153.49000549316406, \"x1\": 153.49000549316406, \"xref\": \"x\", \"y0\": 0.0, \"y1\": 122487.0, \"yref\": \"y\"}]}, \"name\": \"Wed\"}, {\"data\": [{\"mode\": \"lines\", \"name\": \"Call\", \"x\": [138.0, 139.0, 140.0, 141.0, 142.0, 143.0, 144.0, 145.0, 146.0, 147.0, 148.0, 149.0, 150.0, 155.0, 160.0, 165.0, 170.0], \"y\": [209.0, 22.0, 106.0, 135.0, 30.0, 527.0, 111.0, 291.0, 125.0, 340.0, 383.0, 605.0, 3536.0, 1805.0, 2766.0, 2270.0, 2734.0], \"type\": \"scatter\"}, {\"mode\": \"lines\", \"name\": \"Put\", \"x\": [138.0, 139.0, 140.0, 141.0, 142.0, 143.0, 144.0, 145.0, 146.0, 147.0, 148.0, 149.0, 150.0, 155.0, 160.0, 165.0, 170.0], \"y\": [510.0, 306.0, 989.0, 187.0, 308.0, 358.0, 230.0, 786.0, 359.0, 477.0, 265.0, 1157.0, 798.0, 371.0, 131.0, 3.0, 0.0], \"type\": \"scatter\"}], \"layout\": {\"annotations\": [{\"font\": {\"color\": \"#919191\", \"size\": 10.5}, \"showarrow\": false, \"text\": \" Open: 154\", \"textangle\": -90, \"x\": 153.7100067138672, \"y\": 122487.0, \"yanchor\": \"bottom\"}, {\"font\": {\"color\": \"#121212\", \"size\": 10.5}, \"showarrow\": false, \"text\": \" Close: 158\", \"textangle\": -90, \"x\": 157.8699951171875, \"y\": 122487.0, \"yanchor\": \"bottom\"}], \"shapes\": [{\"line\": {\"color\": \"#919191\", \"dash\": \"dot\", \"width\": 2.0}, \"type\": \"line\", \"x0\": 153.7100067138672, \"x1\": 153.7100067138672, \"xref\": \"x\", \"y0\": 0.0, \"y1\": 122487.0, \"yref\": \"y\"}, {\"line\": {\"color\": \"#121212\", \"dash\": \"dot\", \"width\": 2.5}, \"type\": \"line\", \"x0\": 157.8699951171875, \"x1\": 157.8699951171875, \"xref\": \"x\", \"y0\": 0.0, \"y1\": 122487.0, \"yref\": \"y\"}]}, \"name\": \"Thu\"}, {\"data\": [{\"mode\": \"lines\", \"name\": \"Call\", \"x\": [140.0, 145.0, 150.0, 155.0, 160.0, 165.0, 170.0], \"y\": [9449.0, 11942.0, 67588.0, 32172.0, 56450.0, 19183.0, 12464.0], \"type\": \"scatter\"}, {\"mode\": \"lines\", \"name\": \"Put\", \"x\": [140.0, 145.0, 150.0, 155.0, 160.0, 165.0, 170.0], \"y\": [20809.0, 18259.0, 14911.0, 4897.0, 3216.0, 1100.0, 426.0], \"type\": \"scatter\"}], \"layout\": {\"annotations\": [{\"font\": {\"color\": \"#919191\", \"size\": 10.5}, \"showarrow\": false, \"text\": \" Open: 158\", \"textangle\": -90, \"x\": 157.64999389648438, \"y\": 122487.0, \"yanchor\": \"bottom\"}, {\"font\": {\"color\": \"#121212\", \"size\": 10.5}, \"showarrow\": false, \"text\": \" Close: 161\", \"textangle\": -90, \"x\": 160.5500030517578, \"y\": 122487.0, \"yanchor\": \"bottom\"}], \"shapes\": [{\"line\": {\"color\": \"#919191\", \"dash\": \"dot\", \"width\": 2.0}, \"type\": \"line\", \"x0\": 157.64999389648438, \"x1\": 157.64999389648438, \"xref\": \"x\", \"y0\": 0.0, \"y1\": 122487.0, \"yref\": \"y\"}, {\"line\": {\"color\": \"#121212\", \"dash\": \"dot\", \"width\": 2.5}, \"type\": \"line\", \"x0\": 160.5500030517578, \"x1\": 160.5500030517578, \"xref\": \"x\", \"y0\": 0.0, \"y1\": 122487.0, \"yref\": \"y\"}]}, \"name\": \"Fri\"}]);\n",
       "                        }).then(function(){\n",
       "                            \n",
       "var gd = document.getElementById('a7e1d3b6-637c-4816-82f5-4a67fbb60605');\n",
       "var x = new MutationObserver(function (mutations, observer) {{\n",
       "        var display = window.getComputedStyle(gd).display;\n",
       "        if (!display || display === 'none') {{\n",
       "            console.log([gd, 'removed!']);\n",
       "            Plotly.purge(gd);\n",
       "            observer.disconnect();\n",
       "        }}\n",
       "}});\n",
       "\n",
       "// Listen for the removal of the full notebook cells\n",
       "var notebookContainer = gd.closest('#notebook-container');\n",
       "if (notebookContainer) {{\n",
       "    x.observe(notebookContainer, {childList: true});\n",
       "}}\n",
       "\n",
       "// Listen for the clearing of the current output cell\n",
       "var outputEl = gd.closest('.output');\n",
       "if (outputEl) {{\n",
       "    x.observe(outputEl, {childList: true});\n",
       "}}\n",
       "\n",
       "                        })                };                });            </script>        </div>"
      ]
     },
     "metadata": {},
     "output_type": "display_data"
    }
   ],
   "source": [
    "days = ['Mon','Tue','Wed','Thu','Fri']\n",
    "\n",
    "contracts = ['call','put']\n",
    "\n",
    "fig_dict = {\n",
    "    \"data\":[],\n",
    "    \"layout\":{},\n",
    "    \"frames\":[]\n",
    "}\n",
    "\n",
    "fig_dict[\"layout\"][\"xaxis\"] = {\"showgrid\":False, \n",
    "                               \"range\":[tru_rangest-1, tru_rangeend+1],\n",
    "                               \"title\":\"Strike Price\"}\n",
    "fig_dict[\"layout\"][\"yaxis\"] = {\"range\":[y_range_st, y_range_end],\n",
    "                               \"title\":\"Open Interest\"}\n",
    "fig_dict[\"layout\"][\"hovermode\"] = \"x\"\n",
    "fig_dict['layout']['template'] = plot_settings.dockstreet_template\n",
    "fig_dict['layout']['margin'] = {'t':110}\n",
    "fig_dict['layout']['legend'] = {'title':'',\n",
    "                                'font_size':14}\n",
    "fig_dict['layout']['title'] = {'font_size':22,\n",
    "                               'x':0.03,\n",
    "                               'y':0.98,\n",
    "                               'yref':'container',\n",
    "                               'text':f\"<b>Calls & puts for week ending something</b>\",\n",
    "                               'font_color':'#4c4c4c',\n",
    "                               'xanchor':'left'}\n",
    "\n",
    "fig_dict[\"layout\"][\"updatemenus\"] = [\n",
    "    {'buttons': [{'args': [None, {'frame': {'duration':500, 'redraw':False},\n",
    "                                'fromcurrent':True, 'transition': {'duration':300,\n",
    "                                                                   'easing':'quadratic-in-out'}}],\n",
    "                    'label':'Play',\n",
    "                    'method':'animate'},\n",
    "                 {'args': [[None], {'frame': {'duration':0, 'redraw':False},\n",
    "                                      'mode': 'immediate',\n",
    "                                      'transition': {'duration':0}}],\n",
    "                'label':'Pause',\n",
    "                'method':'animate'}],\n",
    "        'direction':'left',\n",
    "        'pad': {'r':10, 't':87},\n",
    "        'showactive':False,\n",
    "        'type':'buttons',\n",
    "        'x':0.1,\n",
    "        'xanchor':'right',\n",
    "        'y':0,\n",
    "        'yanchor':'top'\n",
    "    }]\n",
    "\n",
    "sliders_dict = {\n",
    "    \"active\": 0,\n",
    "    \"yanchor\": \"top\",\n",
    "    \"xanchor\": \"left\",\n",
    "    \"currentvalue\": {\n",
    "        \"font\": {\"size\": 16},\n",
    "        \"prefix\": \"Day:\",\n",
    "        \"visible\": True,\n",
    "        \"xanchor\": \"right\"\n",
    "    },\n",
    "    \"transition\": {\"duration\": 300, \"easing\": \"cubic-in-out\"},\n",
    "    \"pad\": {\"b\": 10, \"t\": 50},\n",
    "    \"len\": 0.9,\n",
    "    \"x\": 0.1,\n",
    "    \"y\": 0,\n",
    "    \"steps\": []\n",
    "}\n",
    "\n",
    "# make data\n",
    "day = 'Mon'\n",
    "for contract in contracts:\n",
    "    dataset_by_day = an[an[\"daywk\"] == day]\n",
    "    dataset_by_day_and_cont = dataset_by_day[\n",
    "        dataset_by_day[\"type\"] == contract]\n",
    "\n",
    "    data_dict = {\n",
    "        \"x\": list(dataset_by_day_and_cont[\"strike\"]),\n",
    "        \"y\": list(dataset_by_day_and_cont[\"open_int\"]),\n",
    "        \"mode\": \"lines\",\n",
    "        \"name\": contract.title()\n",
    "    }\n",
    "    fig_dict[\"data\"].append(data_dict)\n",
    "    \n",
    "    yahoo_day = yahoohist[yahoohist.daywk==day]\n",
    "    shape_dict = [go.layout.Shape(type='line',\n",
    "                                  line_width=2.,\n",
    "                                  line_dash='dot',\n",
    "                                  line_color='#919191',\n",
    "                                  x0=yahoo_day['Open'].values.tolist()[0],\n",
    "                                  x1=yahoo_day['Open'].values.tolist()[0],\n",
    "                                  y0=y_range_st,\n",
    "                                  y1=y_range_end,\n",
    "                                  xref='x',\n",
    "                                  yref='y'\n",
    "                                 ),\n",
    "                 go.layout.Shape(type='line',\n",
    "                                 line_width=2.5,\n",
    "                                 line_dash='dot',\n",
    "                                 line_color='#121212',\n",
    "                                 x0=yahoo_day['Close'].values.tolist()[0],\n",
    "                                 x1=yahoo_day['Close'].values.tolist()[0],\n",
    "                                 y0=y_range_st,\n",
    "                                 y1=y_range_end,\n",
    "                                 xref='x',\n",
    "                                 yref='y')]\n",
    "    \n",
    "    fig_dict['layout']['shapes'] = shape_dict\n",
    "    \n",
    "# make frames\n",
    "for day in days:\n",
    "    frame = {\"data\": [], \"name\": str(day), \"layout\":{}}\n",
    "    for contract in contracts:\n",
    "        dataset_by_day = an[an[\"daywk\"] == day]\n",
    "        dataset_by_day_and_cont = dataset_by_day[\n",
    "            dataset_by_day[\"type\"] == contract]\n",
    "\n",
    "        data_dict = {\n",
    "            \"x\": list(dataset_by_day_and_cont[\"strike\"]),\n",
    "            \"y\": list(dataset_by_day_and_cont[\"open_int\"]),\n",
    "            \"mode\": \"lines\",\n",
    "            \"name\": contract.title()\n",
    "        }\n",
    "        frame[\"data\"].append(data_dict)\n",
    "    \n",
    "    # add the two vertical lines\n",
    "    yahoo_day = yahoohist[yahoohist.daywk==day]\n",
    "    shape_dict = [go.layout.Shape(type='line',\n",
    "                                  line_width=2.,\n",
    "                                  line_dash='dot',\n",
    "                                  line_color='#919191',\n",
    "                                  x0=yahoo_day['Open'].values.tolist()[0],\n",
    "                                  x1=yahoo_day['Open'].values.tolist()[0],\n",
    "                                  y0=y_range_st,\n",
    "                                  y1=y_range_end,\n",
    "                                  xref='x',\n",
    "                                  yref='y'\n",
    "                                 ),\n",
    "                 go.layout.Shape(type='line',\n",
    "                                 line_width=2.5,\n",
    "                                 line_dash='dot',\n",
    "                                 line_color='#121212',\n",
    "                                 x0=yahoo_day['Close'].values.tolist()[0],\n",
    "                                 x1=yahoo_day['Close'].values.tolist()[0],\n",
    "                                 y0=y_range_st,\n",
    "                                 y1=y_range_end,\n",
    "                                 xref='x',\n",
    "                                 yref='y')]\n",
    "\n",
    "    frame['layout']['shapes'] = shape_dict\n",
    "#     frame['layout'] = {'shapes':shape_dict}\n",
    "    \n",
    "    # add annotations for each vertical line\n",
    "    annotation_dict = [go.layout.Annotation(text=f\" Open: {yahoo_day['Open'].values.tolist()[0]:,.0f}\",\n",
    "                                            font_size=10.5,\n",
    "                                            font_color=\"#919191\",\n",
    "                                            showarrow=False,\n",
    "                                            x=yahoo_day['Open'].values.tolist()[0],\n",
    "                                            y=y_range_end,\n",
    "                                            textangle=-90,\n",
    "                                            yanchor='bottom'),\n",
    "                       go.layout.Annotation(text=f\" Close: {yahoo_day['Close'].values.tolist()[0]:,.0f}\",\n",
    "                                            font_size=10.5,\n",
    "                                            font_color=\"#121212\",\n",
    "                                            showarrow=False,\n",
    "                                            x=yahoo_day['Close'].values.tolist()[0],\n",
    "                                            y=y_range_end,\n",
    "                                            textangle=-90,\n",
    "                                            yanchor='bottom')]\n",
    "    \n",
    "#     frame['layout'] = {'annotations':annotation_dict}\n",
    "    frame['layout']['annotations'] = annotation_dict\n",
    "\n",
    "    fig_dict[\"frames\"].append(frame)\n",
    "    slider_step = {\"args\": [\n",
    "        [day],\n",
    "        {\"frame\": {\"duration\": 300, \"redraw\": False},\n",
    "         \"mode\": \"immediate\",\n",
    "         \"transition\": {\"duration\": 300}}\n",
    "    ],\n",
    "        \"label\": day,\n",
    "        \"method\": \"animate\"}\n",
    "    sliders_dict[\"steps\"].append(slider_step)\n",
    "\n",
    "\n",
    "fig_dict[\"layout\"][\"sliders\"] = [sliders_dict]\n",
    "\n",
    "fig = go.Figure(fig_dict)\n",
    "\n",
    "fig.show()"
   ]
  },
  {
   "cell_type": "code",
   "execution_count": 209,
   "id": "b1a8bbd8",
   "metadata": {},
   "outputs": [
    {
     "data": {
      "application/vnd.plotly.v1+json": {
       "config": {
        "plotlyServerURL": "https://plot.ly"
       },
       "data": [
        {
         "mode": "lines",
         "name": "Call",
         "type": "scatter",
         "x": [
          138,
          139,
          140,
          141,
          142,
          143,
          144,
          145,
          146,
          147,
          148,
          149,
          150,
          155,
          160,
          165,
          170
         ],
         "y": [
          34,
          70,
          434,
          911,
          539,
          45,
          167,
          592,
          350,
          486,
          1403,
          1580,
          4721,
          7574,
          9631,
          4069,
          2816
         ]
        },
        {
         "mode": "lines",
         "name": "Put",
         "type": "scatter",
         "x": [
          138,
          139,
          140,
          141,
          142,
          143,
          144,
          145,
          146,
          147,
          148,
          149,
          150,
          155,
          160,
          165,
          170
         ],
         "y": [
          795,
          1048,
          2734,
          611,
          929,
          724,
          846,
          1785,
          1375,
          3023,
          1721,
          12104,
          3718,
          1296,
          581,
          295,
          123
         ]
        }
       ],
       "frames": [
        {
         "data": [
          {
           "mode": "lines",
           "name": "Call",
           "type": "scatter",
           "x": [
            138,
            139,
            140,
            141,
            142,
            143,
            144,
            145,
            146,
            147,
            148,
            149,
            150,
            155,
            160,
            165,
            170
           ],
           "y": [
            34,
            70,
            434,
            911,
            539,
            45,
            167,
            592,
            350,
            486,
            1403,
            1580,
            4721,
            7574,
            9631,
            4069,
            2816
           ]
          },
          {
           "mode": "lines",
           "name": "Put",
           "type": "scatter",
           "x": [
            138,
            139,
            140,
            141,
            142,
            143,
            144,
            145,
            146,
            147,
            148,
            149,
            150,
            155,
            160,
            165,
            170
           ],
           "y": [
            795,
            1048,
            2734,
            611,
            929,
            724,
            846,
            1785,
            1375,
            3023,
            1721,
            12104,
            3718,
            1296,
            581,
            295,
            123
           ]
          }
         ],
         "layout": {
          "annotations": [
           {
            "font": {
             "color": "#919191",
             "size": 10.5
            },
            "showarrow": false,
            "text": " Open: 150",
            "textangle": -90,
            "x": 150.3699951171875,
            "y": 122487,
            "yanchor": "bottom"
           },
           {
            "font": {
             "color": "#121212",
             "size": 10.5
            },
            "showarrow": false,
            "text": " Close: 150",
            "textangle": -90,
            "x": 150,
            "y": 122487,
            "yanchor": "bottom"
           }
          ],
          "shapes": [
           {
            "line": {
             "color": "#919191",
             "dash": "dot",
             "width": 2
            },
            "type": "line",
            "x0": 150.3699951171875,
            "x1": 150.3699951171875,
            "xref": "x",
            "y0": 0,
            "y1": 122487,
            "yref": "y"
           },
           {
            "line": {
             "color": "#121212",
             "dash": "dot",
             "width": 2.5
            },
            "type": "line",
            "x0": 150,
            "x1": 150,
            "xref": "x",
            "y0": 0,
            "y1": 122487,
            "yref": "y"
           }
          ]
         },
         "name": "Mon"
        },
        {
         "data": [
          {
           "mode": "lines",
           "name": "Call",
           "type": "scatter",
           "x": [
            140,
            145,
            150,
            155,
            160,
            165,
            170
           ],
           "y": [
            32191,
            60769,
            122485,
            101564,
            64282,
            76781,
            41308
           ]
          },
          {
           "mode": "lines",
           "name": "Put",
           "type": "scatter",
           "x": [
            140,
            145,
            150,
            155,
            160,
            165,
            170
           ],
           "y": [
            45930,
            78643,
            100530,
            50109,
            13783,
            3306,
            1122
           ]
          }
         ],
         "layout": {
          "annotations": [
           {
            "font": {
             "color": "#919191",
             "size": 10.5
            },
            "showarrow": false,
            "text": " Open: 150",
            "textangle": -90,
            "x": 149.94000244140625,
            "y": 122487,
            "yanchor": "bottom"
           },
           {
            "font": {
             "color": "#121212",
             "size": 10.5
            },
            "showarrow": false,
            "text": " Close: 151",
            "textangle": -90,
            "x": 151,
            "y": 122487,
            "yanchor": "bottom"
           }
          ],
          "shapes": [
           {
            "line": {
             "color": "#919191",
             "dash": "dot",
             "width": 2
            },
            "type": "line",
            "x0": 149.94000244140625,
            "x1": 149.94000244140625,
            "xref": "x",
            "y0": 0,
            "y1": 122487,
            "yref": "y"
           },
           {
            "line": {
             "color": "#121212",
             "dash": "dot",
             "width": 2.5
            },
            "type": "line",
            "x0": 151,
            "x1": 151,
            "xref": "x",
            "y0": 0,
            "y1": 122487,
            "yref": "y"
           }
          ]
         },
         "name": "Tue"
        },
        {
         "data": [
          {
           "mode": "lines",
           "name": "Call",
           "type": "scatter",
           "x": [
            138,
            139,
            140,
            141,
            142,
            143,
            144,
            145,
            146,
            147,
            148,
            149,
            150,
            155,
            160,
            165,
            170
           ],
           "y": [
            105,
            6,
            30577,
            101,
            134,
            100,
            44,
            320,
            165,
            403,
            883,
            744,
            30804,
            4601,
            22158,
            4189,
            12779
           ]
          },
          {
           "mode": "lines",
           "name": "Put",
           "type": "scatter",
           "x": [
            138,
            139,
            140,
            141,
            142,
            143,
            144,
            145,
            146,
            147,
            148,
            149,
            150,
            155,
            160,
            165,
            170
           ],
           "y": [
            284,
            222,
            1834,
            595,
            358,
            1157,
            734,
            1566,
            478,
            627,
            1003,
            532,
            6379,
            1338,
            404,
            118,
            75
           ]
          }
         ],
         "layout": {
          "annotations": [
           {
            "font": {
             "color": "#919191",
             "size": 10.5
            },
            "showarrow": false,
            "text": " Open: 151",
            "textangle": -90,
            "x": 151,
            "y": 122487,
            "yanchor": "bottom"
           },
           {
            "font": {
             "color": "#121212",
             "size": 10.5
            },
            "showarrow": false,
            "text": " Close: 153",
            "textangle": -90,
            "x": 153.49000549316406,
            "y": 122487,
            "yanchor": "bottom"
           }
          ],
          "shapes": [
           {
            "line": {
             "color": "#919191",
             "dash": "dot",
             "width": 2
            },
            "type": "line",
            "x0": 151,
            "x1": 151,
            "xref": "x",
            "y0": 0,
            "y1": 122487,
            "yref": "y"
           },
           {
            "line": {
             "color": "#121212",
             "dash": "dot",
             "width": 2.5
            },
            "type": "line",
            "x0": 153.49000549316406,
            "x1": 153.49000549316406,
            "xref": "x",
            "y0": 0,
            "y1": 122487,
            "yref": "y"
           }
          ]
         },
         "name": "Wed"
        },
        {
         "data": [
          {
           "mode": "lines",
           "name": "Call",
           "type": "scatter",
           "x": [
            138,
            139,
            140,
            141,
            142,
            143,
            144,
            145,
            146,
            147,
            148,
            149,
            150,
            155,
            160,
            165,
            170
           ],
           "y": [
            209,
            22,
            106,
            135,
            30,
            527,
            111,
            291,
            125,
            340,
            383,
            605,
            3536,
            1805,
            2766,
            2270,
            2734
           ]
          },
          {
           "mode": "lines",
           "name": "Put",
           "type": "scatter",
           "x": [
            138,
            139,
            140,
            141,
            142,
            143,
            144,
            145,
            146,
            147,
            148,
            149,
            150,
            155,
            160,
            165,
            170
           ],
           "y": [
            510,
            306,
            989,
            187,
            308,
            358,
            230,
            786,
            359,
            477,
            265,
            1157,
            798,
            371,
            131,
            3,
            0
           ]
          }
         ],
         "layout": {
          "annotations": [
           {
            "font": {
             "color": "#919191",
             "size": 10.5
            },
            "showarrow": false,
            "text": " Open: 154",
            "textangle": -90,
            "x": 153.7100067138672,
            "y": 122487,
            "yanchor": "bottom"
           },
           {
            "font": {
             "color": "#121212",
             "size": 10.5
            },
            "showarrow": false,
            "text": " Close: 158",
            "textangle": -90,
            "x": 157.8699951171875,
            "y": 122487,
            "yanchor": "bottom"
           }
          ],
          "shapes": [
           {
            "line": {
             "color": "#919191",
             "dash": "dot",
             "width": 2
            },
            "type": "line",
            "x0": 153.7100067138672,
            "x1": 153.7100067138672,
            "xref": "x",
            "y0": 0,
            "y1": 122487,
            "yref": "y"
           },
           {
            "line": {
             "color": "#121212",
             "dash": "dot",
             "width": 2.5
            },
            "type": "line",
            "x0": 157.8699951171875,
            "x1": 157.8699951171875,
            "xref": "x",
            "y0": 0,
            "y1": 122487,
            "yref": "y"
           }
          ]
         },
         "name": "Thu"
        },
        {
         "data": [
          {
           "mode": "lines",
           "name": "Call",
           "type": "scatter",
           "x": [
            140,
            145,
            150,
            155,
            160,
            165,
            170
           ],
           "y": [
            9449,
            11942,
            67588,
            32172,
            56450,
            19183,
            12464
           ]
          },
          {
           "mode": "lines",
           "name": "Put",
           "type": "scatter",
           "x": [
            140,
            145,
            150,
            155,
            160,
            165,
            170
           ],
           "y": [
            20809,
            18259,
            14911,
            4897,
            3216,
            1100,
            426
           ]
          }
         ],
         "layout": {
          "annotations": [
           {
            "font": {
             "color": "#919191",
             "size": 10.5
            },
            "showarrow": false,
            "text": " Open: 158",
            "textangle": -90,
            "x": 157.64999389648438,
            "y": 122487,
            "yanchor": "bottom"
           },
           {
            "font": {
             "color": "#121212",
             "size": 10.5
            },
            "showarrow": false,
            "text": " Close: 161",
            "textangle": -90,
            "x": 160.5500030517578,
            "y": 122487,
            "yanchor": "bottom"
           }
          ],
          "shapes": [
           {
            "line": {
             "color": "#919191",
             "dash": "dot",
             "width": 2
            },
            "type": "line",
            "x0": 157.64999389648438,
            "x1": 157.64999389648438,
            "xref": "x",
            "y0": 0,
            "y1": 122487,
            "yref": "y"
           },
           {
            "line": {
             "color": "#121212",
             "dash": "dot",
             "width": 2.5
            },
            "type": "line",
            "x0": 160.5500030517578,
            "x1": 160.5500030517578,
            "xref": "x",
            "y0": 0,
            "y1": 122487,
            "yref": "y"
           }
          ]
         },
         "name": "Fri"
        }
       ],
       "layout": {
        "hovermode": "x",
        "legend": {
         "font": {
          "size": 14
         },
         "title": {
          "text": ""
         }
        },
        "margin": {
         "t": 110
        },
        "shapes": [
         {
          "line": {
           "color": "#919191",
           "dash": "dot",
           "width": 2
          },
          "type": "line",
          "x0": 150.3699951171875,
          "x1": 150.3699951171875,
          "xref": "x",
          "y0": 0,
          "y1": 122487,
          "yref": "y"
         },
         {
          "line": {
           "color": "#121212",
           "dash": "dot",
           "width": 2.5
          },
          "type": "line",
          "x0": 150,
          "x1": 150,
          "xref": "x",
          "y0": 0,
          "y1": 122487,
          "yref": "y"
         }
        ],
        "sliders": [
         {
          "active": 0,
          "currentvalue": {
           "font": {
            "size": 16
           },
           "prefix": "Day:",
           "visible": true,
           "xanchor": "right"
          },
          "len": 0.9,
          "pad": {
           "b": 10,
           "t": 50
          },
          "steps": [
           {
            "args": [
             [
              "Mon"
             ],
             {
              "frame": {
               "duration": 300,
               "redraw": false
              },
              "mode": "immediate",
              "transition": {
               "duration": 300
              }
             }
            ],
            "label": "Mon",
            "method": "animate"
           },
           {
            "args": [
             [
              "Tue"
             ],
             {
              "frame": {
               "duration": 300,
               "redraw": false
              },
              "mode": "immediate",
              "transition": {
               "duration": 300
              }
             }
            ],
            "label": "Tue",
            "method": "animate"
           },
           {
            "args": [
             [
              "Wed"
             ],
             {
              "frame": {
               "duration": 300,
               "redraw": false
              },
              "mode": "immediate",
              "transition": {
               "duration": 300
              }
             }
            ],
            "label": "Wed",
            "method": "animate"
           },
           {
            "args": [
             [
              "Thu"
             ],
             {
              "frame": {
               "duration": 300,
               "redraw": false
              },
              "mode": "immediate",
              "transition": {
               "duration": 300
              }
             }
            ],
            "label": "Thu",
            "method": "animate"
           },
           {
            "args": [
             [
              "Fri"
             ],
             {
              "frame": {
               "duration": 300,
               "redraw": false
              },
              "mode": "immediate",
              "transition": {
               "duration": 300
              }
             }
            ],
            "label": "Fri",
            "method": "animate"
           }
          ],
          "transition": {
           "duration": 300,
           "easing": "cubic-in-out"
          },
          "x": 0.1,
          "xanchor": "left",
          "y": 0,
          "yanchor": "top"
         }
        ],
        "template": {
         "layout": {
          "colorway": [
           "#0173c2",
           "#cd534c",
           "#868686",
           "#D8A360",
           "#7aa6dc",
           "#003c66"
          ],
          "font": {
           "color": "black",
           "family": "Avenir"
          },
          "hovermode": "closest",
          "mapbox": {
           "style": "light"
          },
          "paper_bgcolor": "#ffffff",
          "plot_bgcolor": "#ffffff",
          "xaxis": {
           "automargin": true,
           "gridcolor": "#e4e3e3",
           "linecolor": "#e4e3e3",
           "ticks": "",
           "zerolinecolor": "#e4e3e3",
           "zerolinewidth": 2
          },
          "yaxis": {
           "automargin": true,
           "gridcolor": "#e4e3e3",
           "linecolor": "#e4e3e3",
           "ticks": "",
           "title": {
            "standoff": 10
           },
           "zerolinecolor": "#e4e3e3",
           "zerolinewidth": 2
          }
         }
        },
        "title": {
         "font": {
          "color": "#4c4c4c",
          "size": 22
         },
         "text": "<b>Calls & puts for week ending something</b>",
         "x": 0.03,
         "xanchor": "left",
         "y": 0.98,
         "yref": "container"
        },
        "updatemenus": [
         {
          "buttons": [
           {
            "args": [
             null,
             {
              "frame": {
               "duration": 500,
               "redraw": false
              },
              "fromcurrent": true,
              "transition": {
               "duration": 300,
               "easing": "quadratic-in-out"
              }
             }
            ],
            "label": "Play",
            "method": "animate"
           },
           {
            "args": [
             [
              null
             ],
             {
              "frame": {
               "duration": 0,
               "redraw": false
              },
              "mode": "immediate",
              "transition": {
               "duration": 0
              }
             }
            ],
            "label": "Pause",
            "method": "animate"
           }
          ],
          "direction": "left",
          "pad": {
           "r": 10,
           "t": 87
          },
          "showactive": false,
          "type": "buttons",
          "x": 0.1,
          "xanchor": "right",
          "y": 0,
          "yanchor": "top"
         }
        ],
        "xaxis": {
         "range": [
          137,
          171
         ],
         "showgrid": false,
         "title": {
          "text": "Strike Price"
         }
        },
        "yaxis": {
         "range": [
          0,
          122487
         ],
         "title": {
          "text": "Open Interest"
         }
        }
       }
      },
      "text/html": [
       "<div>                            <div id=\"d2c173ad-0233-4a47-b648-8421d95f69a1\" class=\"plotly-graph-div\" style=\"height:525px; width:100%;\"></div>            <script type=\"text/javascript\">                require([\"plotly\"], function(Plotly) {                    window.PLOTLYENV=window.PLOTLYENV || {};                                    if (document.getElementById(\"d2c173ad-0233-4a47-b648-8421d95f69a1\")) {                    Plotly.newPlot(                        \"d2c173ad-0233-4a47-b648-8421d95f69a1\",                        [{\"mode\": \"lines\", \"name\": \"Call\", \"type\": \"scatter\", \"x\": [138.0, 139.0, 140.0, 141.0, 142.0, 143.0, 144.0, 145.0, 146.0, 147.0, 148.0, 149.0, 150.0, 155.0, 160.0, 165.0, 170.0], \"y\": [34.0, 70.0, 434.0, 911.0, 539.0, 45.0, 167.0, 592.0, 350.0, 486.0, 1403.0, 1580.0, 4721.0, 7574.0, 9631.0, 4069.0, 2816.0]}, {\"mode\": \"lines\", \"name\": \"Put\", \"type\": \"scatter\", \"x\": [138.0, 139.0, 140.0, 141.0, 142.0, 143.0, 144.0, 145.0, 146.0, 147.0, 148.0, 149.0, 150.0, 155.0, 160.0, 165.0, 170.0], \"y\": [795.0, 1048.0, 2734.0, 611.0, 929.0, 724.0, 846.0, 1785.0, 1375.0, 3023.0, 1721.0, 12104.0, 3718.0, 1296.0, 581.0, 295.0, 123.0]}],                        {\"hovermode\": \"x\", \"legend\": {\"font\": {\"size\": 14}, \"title\": {\"text\": \"\"}}, \"margin\": {\"t\": 110}, \"shapes\": [{\"line\": {\"color\": \"#919191\", \"dash\": \"dot\", \"width\": 2.0}, \"type\": \"line\", \"x0\": 150.3699951171875, \"x1\": 150.3699951171875, \"xref\": \"x\", \"y0\": 0.0, \"y1\": 122487.0, \"yref\": \"y\"}, {\"line\": {\"color\": \"#121212\", \"dash\": \"dot\", \"width\": 2.5}, \"type\": \"line\", \"x0\": 150.0, \"x1\": 150.0, \"xref\": \"x\", \"y0\": 0.0, \"y1\": 122487.0, \"yref\": \"y\"}], \"sliders\": [{\"active\": 0, \"currentvalue\": {\"font\": {\"size\": 16}, \"prefix\": \"Day:\", \"visible\": true, \"xanchor\": \"right\"}, \"len\": 0.9, \"pad\": {\"b\": 10, \"t\": 50}, \"steps\": [{\"args\": [[\"Mon\"], {\"frame\": {\"duration\": 300, \"redraw\": false}, \"mode\": \"immediate\", \"transition\": {\"duration\": 300}}], \"label\": \"Mon\", \"method\": \"animate\"}, {\"args\": [[\"Tue\"], {\"frame\": {\"duration\": 300, \"redraw\": false}, \"mode\": \"immediate\", \"transition\": {\"duration\": 300}}], \"label\": \"Tue\", \"method\": \"animate\"}, {\"args\": [[\"Wed\"], {\"frame\": {\"duration\": 300, \"redraw\": false}, \"mode\": \"immediate\", \"transition\": {\"duration\": 300}}], \"label\": \"Wed\", \"method\": \"animate\"}, {\"args\": [[\"Thu\"], {\"frame\": {\"duration\": 300, \"redraw\": false}, \"mode\": \"immediate\", \"transition\": {\"duration\": 300}}], \"label\": \"Thu\", \"method\": \"animate\"}, {\"args\": [[\"Fri\"], {\"frame\": {\"duration\": 300, \"redraw\": false}, \"mode\": \"immediate\", \"transition\": {\"duration\": 300}}], \"label\": \"Fri\", \"method\": \"animate\"}], \"transition\": {\"duration\": 300, \"easing\": \"cubic-in-out\"}, \"x\": 0.1, \"xanchor\": \"left\", \"y\": 0, \"yanchor\": \"top\"}], \"template\": {\"layout\": {\"colorway\": [\"#0173c2\", \"#cd534c\", \"#868686\", \"#D8A360\", \"#7aa6dc\", \"#003c66\"], \"font\": {\"color\": \"black\", \"family\": \"Avenir\"}, \"hovermode\": \"closest\", \"mapbox\": {\"style\": \"light\"}, \"paper_bgcolor\": \"#ffffff\", \"plot_bgcolor\": \"#ffffff\", \"xaxis\": {\"automargin\": true, \"gridcolor\": \"#e4e3e3\", \"linecolor\": \"#e4e3e3\", \"ticks\": \"\", \"zerolinecolor\": \"#e4e3e3\", \"zerolinewidth\": 2}, \"yaxis\": {\"automargin\": true, \"gridcolor\": \"#e4e3e3\", \"linecolor\": \"#e4e3e3\", \"ticks\": \"\", \"title\": {\"standoff\": 10}, \"zerolinecolor\": \"#e4e3e3\", \"zerolinewidth\": 2}}}, \"title\": {\"font\": {\"color\": \"#4c4c4c\", \"size\": 22}, \"text\": \"<b>Calls & puts for week ending something</b>\", \"x\": 0.03, \"xanchor\": \"left\", \"y\": 0.98, \"yref\": \"container\"}, \"updatemenus\": [{\"buttons\": [{\"args\": [null, {\"frame\": {\"duration\": 500, \"redraw\": false}, \"fromcurrent\": true, \"transition\": {\"duration\": 300, \"easing\": \"quadratic-in-out\"}}], \"label\": \"Play\", \"method\": \"animate\"}, {\"args\": [[null], {\"frame\": {\"duration\": 0, \"redraw\": false}, \"mode\": \"immediate\", \"transition\": {\"duration\": 0}}], \"label\": \"Pause\", \"method\": \"animate\"}], \"direction\": \"left\", \"pad\": {\"r\": 10, \"t\": 87}, \"showactive\": false, \"type\": \"buttons\", \"x\": 0.1, \"xanchor\": \"right\", \"y\": 0, \"yanchor\": \"top\"}], \"xaxis\": {\"range\": [137.0, 171.0], \"showgrid\": false, \"title\": {\"text\": \"Strike Price\"}}, \"yaxis\": {\"range\": [0.0, 122487.0], \"title\": {\"text\": \"Open Interest\"}}},                        {\"responsive\": true}                    ).then(function(){\n",
       "                            Plotly.addFrames('d2c173ad-0233-4a47-b648-8421d95f69a1', [{\"data\": [{\"mode\": \"lines\", \"name\": \"Call\", \"x\": [138.0, 139.0, 140.0, 141.0, 142.0, 143.0, 144.0, 145.0, 146.0, 147.0, 148.0, 149.0, 150.0, 155.0, 160.0, 165.0, 170.0], \"y\": [34.0, 70.0, 434.0, 911.0, 539.0, 45.0, 167.0, 592.0, 350.0, 486.0, 1403.0, 1580.0, 4721.0, 7574.0, 9631.0, 4069.0, 2816.0], \"type\": \"scatter\"}, {\"mode\": \"lines\", \"name\": \"Put\", \"x\": [138.0, 139.0, 140.0, 141.0, 142.0, 143.0, 144.0, 145.0, 146.0, 147.0, 148.0, 149.0, 150.0, 155.0, 160.0, 165.0, 170.0], \"y\": [795.0, 1048.0, 2734.0, 611.0, 929.0, 724.0, 846.0, 1785.0, 1375.0, 3023.0, 1721.0, 12104.0, 3718.0, 1296.0, 581.0, 295.0, 123.0], \"type\": \"scatter\"}], \"layout\": {\"annotations\": [{\"font\": {\"color\": \"#919191\", \"size\": 10.5}, \"showarrow\": false, \"text\": \" Open: 150\", \"textangle\": -90, \"x\": 150.3699951171875, \"y\": 122487.0, \"yanchor\": \"bottom\"}, {\"font\": {\"color\": \"#121212\", \"size\": 10.5}, \"showarrow\": false, \"text\": \" Close: 150\", \"textangle\": -90, \"x\": 150.0, \"y\": 122487.0, \"yanchor\": \"bottom\"}], \"shapes\": [{\"line\": {\"color\": \"#919191\", \"dash\": \"dot\", \"width\": 2.0}, \"type\": \"line\", \"x0\": 150.3699951171875, \"x1\": 150.3699951171875, \"xref\": \"x\", \"y0\": 0.0, \"y1\": 122487.0, \"yref\": \"y\"}, {\"line\": {\"color\": \"#121212\", \"dash\": \"dot\", \"width\": 2.5}, \"type\": \"line\", \"x0\": 150.0, \"x1\": 150.0, \"xref\": \"x\", \"y0\": 0.0, \"y1\": 122487.0, \"yref\": \"y\"}]}, \"name\": \"Mon\"}, {\"data\": [{\"mode\": \"lines\", \"name\": \"Call\", \"x\": [140.0, 145.0, 150.0, 155.0, 160.0, 165.0, 170.0], \"y\": [32191.0, 60769.0, 122485.0, 101564.0, 64282.0, 76781.0, 41308.0], \"type\": \"scatter\"}, {\"mode\": \"lines\", \"name\": \"Put\", \"x\": [140.0, 145.0, 150.0, 155.0, 160.0, 165.0, 170.0], \"y\": [45930.0, 78643.0, 100530.0, 50109.0, 13783.0, 3306.0, 1122.0], \"type\": \"scatter\"}], \"layout\": {\"annotations\": [{\"font\": {\"color\": \"#919191\", \"size\": 10.5}, \"showarrow\": false, \"text\": \" Open: 150\", \"textangle\": -90, \"x\": 149.94000244140625, \"y\": 122487.0, \"yanchor\": \"bottom\"}, {\"font\": {\"color\": \"#121212\", \"size\": 10.5}, \"showarrow\": false, \"text\": \" Close: 151\", \"textangle\": -90, \"x\": 151.0, \"y\": 122487.0, \"yanchor\": \"bottom\"}], \"shapes\": [{\"line\": {\"color\": \"#919191\", \"dash\": \"dot\", \"width\": 2.0}, \"type\": \"line\", \"x0\": 149.94000244140625, \"x1\": 149.94000244140625, \"xref\": \"x\", \"y0\": 0.0, \"y1\": 122487.0, \"yref\": \"y\"}, {\"line\": {\"color\": \"#121212\", \"dash\": \"dot\", \"width\": 2.5}, \"type\": \"line\", \"x0\": 151.0, \"x1\": 151.0, \"xref\": \"x\", \"y0\": 0.0, \"y1\": 122487.0, \"yref\": \"y\"}]}, \"name\": \"Tue\"}, {\"data\": [{\"mode\": \"lines\", \"name\": \"Call\", \"x\": [138.0, 139.0, 140.0, 141.0, 142.0, 143.0, 144.0, 145.0, 146.0, 147.0, 148.0, 149.0, 150.0, 155.0, 160.0, 165.0, 170.0], \"y\": [105.0, 6.0, 30577.0, 101.0, 134.0, 100.0, 44.0, 320.0, 165.0, 403.0, 883.0, 744.0, 30804.0, 4601.0, 22158.0, 4189.0, 12779.0], \"type\": \"scatter\"}, {\"mode\": \"lines\", \"name\": \"Put\", \"x\": [138.0, 139.0, 140.0, 141.0, 142.0, 143.0, 144.0, 145.0, 146.0, 147.0, 148.0, 149.0, 150.0, 155.0, 160.0, 165.0, 170.0], \"y\": [284.0, 222.0, 1834.0, 595.0, 358.0, 1157.0, 734.0, 1566.0, 478.0, 627.0, 1003.0, 532.0, 6379.0, 1338.0, 404.0, 118.0, 75.0], \"type\": \"scatter\"}], \"layout\": {\"annotations\": [{\"font\": {\"color\": \"#919191\", \"size\": 10.5}, \"showarrow\": false, \"text\": \" Open: 151\", \"textangle\": -90, \"x\": 151.0, \"y\": 122487.0, \"yanchor\": \"bottom\"}, {\"font\": {\"color\": \"#121212\", \"size\": 10.5}, \"showarrow\": false, \"text\": \" Close: 153\", \"textangle\": -90, \"x\": 153.49000549316406, \"y\": 122487.0, \"yanchor\": \"bottom\"}], \"shapes\": [{\"line\": {\"color\": \"#919191\", \"dash\": \"dot\", \"width\": 2.0}, \"type\": \"line\", \"x0\": 151.0, \"x1\": 151.0, \"xref\": \"x\", \"y0\": 0.0, \"y1\": 122487.0, \"yref\": \"y\"}, {\"line\": {\"color\": \"#121212\", \"dash\": \"dot\", \"width\": 2.5}, \"type\": \"line\", \"x0\": 153.49000549316406, \"x1\": 153.49000549316406, \"xref\": \"x\", \"y0\": 0.0, \"y1\": 122487.0, \"yref\": \"y\"}]}, \"name\": \"Wed\"}, {\"data\": [{\"mode\": \"lines\", \"name\": \"Call\", \"x\": [138.0, 139.0, 140.0, 141.0, 142.0, 143.0, 144.0, 145.0, 146.0, 147.0, 148.0, 149.0, 150.0, 155.0, 160.0, 165.0, 170.0], \"y\": [209.0, 22.0, 106.0, 135.0, 30.0, 527.0, 111.0, 291.0, 125.0, 340.0, 383.0, 605.0, 3536.0, 1805.0, 2766.0, 2270.0, 2734.0], \"type\": \"scatter\"}, {\"mode\": \"lines\", \"name\": \"Put\", \"x\": [138.0, 139.0, 140.0, 141.0, 142.0, 143.0, 144.0, 145.0, 146.0, 147.0, 148.0, 149.0, 150.0, 155.0, 160.0, 165.0, 170.0], \"y\": [510.0, 306.0, 989.0, 187.0, 308.0, 358.0, 230.0, 786.0, 359.0, 477.0, 265.0, 1157.0, 798.0, 371.0, 131.0, 3.0, 0.0], \"type\": \"scatter\"}], \"layout\": {\"annotations\": [{\"font\": {\"color\": \"#919191\", \"size\": 10.5}, \"showarrow\": false, \"text\": \" Open: 154\", \"textangle\": -90, \"x\": 153.7100067138672, \"y\": 122487.0, \"yanchor\": \"bottom\"}, {\"font\": {\"color\": \"#121212\", \"size\": 10.5}, \"showarrow\": false, \"text\": \" Close: 158\", \"textangle\": -90, \"x\": 157.8699951171875, \"y\": 122487.0, \"yanchor\": \"bottom\"}], \"shapes\": [{\"line\": {\"color\": \"#919191\", \"dash\": \"dot\", \"width\": 2.0}, \"type\": \"line\", \"x0\": 153.7100067138672, \"x1\": 153.7100067138672, \"xref\": \"x\", \"y0\": 0.0, \"y1\": 122487.0, \"yref\": \"y\"}, {\"line\": {\"color\": \"#121212\", \"dash\": \"dot\", \"width\": 2.5}, \"type\": \"line\", \"x0\": 157.8699951171875, \"x1\": 157.8699951171875, \"xref\": \"x\", \"y0\": 0.0, \"y1\": 122487.0, \"yref\": \"y\"}]}, \"name\": \"Thu\"}, {\"data\": [{\"mode\": \"lines\", \"name\": \"Call\", \"x\": [140.0, 145.0, 150.0, 155.0, 160.0, 165.0, 170.0], \"y\": [9449.0, 11942.0, 67588.0, 32172.0, 56450.0, 19183.0, 12464.0], \"type\": \"scatter\"}, {\"mode\": \"lines\", \"name\": \"Put\", \"x\": [140.0, 145.0, 150.0, 155.0, 160.0, 165.0, 170.0], \"y\": [20809.0, 18259.0, 14911.0, 4897.0, 3216.0, 1100.0, 426.0], \"type\": \"scatter\"}], \"layout\": {\"annotations\": [{\"font\": {\"color\": \"#919191\", \"size\": 10.5}, \"showarrow\": false, \"text\": \" Open: 158\", \"textangle\": -90, \"x\": 157.64999389648438, \"y\": 122487.0, \"yanchor\": \"bottom\"}, {\"font\": {\"color\": \"#121212\", \"size\": 10.5}, \"showarrow\": false, \"text\": \" Close: 161\", \"textangle\": -90, \"x\": 160.5500030517578, \"y\": 122487.0, \"yanchor\": \"bottom\"}], \"shapes\": [{\"line\": {\"color\": \"#919191\", \"dash\": \"dot\", \"width\": 2.0}, \"type\": \"line\", \"x0\": 157.64999389648438, \"x1\": 157.64999389648438, \"xref\": \"x\", \"y0\": 0.0, \"y1\": 122487.0, \"yref\": \"y\"}, {\"line\": {\"color\": \"#121212\", \"dash\": \"dot\", \"width\": 2.5}, \"type\": \"line\", \"x0\": 160.5500030517578, \"x1\": 160.5500030517578, \"xref\": \"x\", \"y0\": 0.0, \"y1\": 122487.0, \"yref\": \"y\"}]}, \"name\": \"Fri\"}]);\n",
       "                        }).then(function(){\n",
       "                            \n",
       "var gd = document.getElementById('d2c173ad-0233-4a47-b648-8421d95f69a1');\n",
       "var x = new MutationObserver(function (mutations, observer) {{\n",
       "        var display = window.getComputedStyle(gd).display;\n",
       "        if (!display || display === 'none') {{\n",
       "            console.log([gd, 'removed!']);\n",
       "            Plotly.purge(gd);\n",
       "            observer.disconnect();\n",
       "        }}\n",
       "}});\n",
       "\n",
       "// Listen for the removal of the full notebook cells\n",
       "var notebookContainer = gd.closest('#notebook-container');\n",
       "if (notebookContainer) {{\n",
       "    x.observe(notebookContainer, {childList: true});\n",
       "}}\n",
       "\n",
       "// Listen for the clearing of the current output cell\n",
       "var outputEl = gd.closest('.output');\n",
       "if (outputEl) {{\n",
       "    x.observe(outputEl, {childList: true});\n",
       "}}\n",
       "\n",
       "                        })                };                });            </script>        </div>"
      ]
     },
     "metadata": {},
     "output_type": "display_data"
    }
   ],
   "source": [
    "days = ['Mon','Tue','Wed','Thu','Fri']\n",
    "\n",
    "contracts = ['call','put']\n",
    "\n",
    "fig_dict = {\n",
    "    \"data\":[],\n",
    "    \"layout\":{},\n",
    "    \"frames\":[]\n",
    "}\n",
    "\n",
    "fig_dict[\"layout\"][\"xaxis\"] = {\"showgrid\":False, \n",
    "                               \"range\":[tru_rangest-1, tru_rangeend+1],\n",
    "                               \"title\":\"Strike Price\"}\n",
    "fig_dict[\"layout\"][\"yaxis\"] = {\"range\":[y_range_st, y_range_end],\n",
    "                               \"title\":\"Open Interest\"}\n",
    "fig_dict[\"layout\"][\"hovermode\"] = \"x\"\n",
    "fig_dict['layout']['template'] = plot_settings.dockstreet_template\n",
    "fig_dict['layout']['margin'] = {'t':110}\n",
    "fig_dict['layout']['legend'] = {'title':'',\n",
    "                                'font_size':14}\n",
    "fig_dict['layout']['title'] = {'font_size':22,\n",
    "                               'x':0.03,\n",
    "                               'y':0.98,\n",
    "                               'yref':'container',\n",
    "                               'text':f\"<b>Calls & puts for week ending something</b>\",\n",
    "                               'font_color':'#4c4c4c',\n",
    "                               'xanchor':'left'}\n",
    "\n",
    "fig_dict[\"layout\"][\"updatemenus\"] = [\n",
    "    {'buttons': [{'args': [None, {'frame': {'duration':500, 'redraw':False},\n",
    "                                'fromcurrent':True, 'transition': {'duration':300,\n",
    "                                                                   'easing':'quadratic-in-out'}}],\n",
    "                    'label':'Play',\n",
    "                    'method':'animate'},\n",
    "                 {'args': [[None], {'frame': {'duration':0, 'redraw':False},\n",
    "                                      'mode': 'immediate',\n",
    "                                      'transition': {'duration':0}}],\n",
    "                'label':'Pause',\n",
    "                'method':'animate'}],\n",
    "        'direction':'left',\n",
    "        'pad': {'r':10, 't':87},\n",
    "        'showactive':False,\n",
    "        'type':'buttons',\n",
    "        'x':0.1,\n",
    "        'xanchor':'right',\n",
    "        'y':0,\n",
    "        'yanchor':'top'\n",
    "    }]\n",
    "\n",
    "sliders_dict = {\n",
    "    \"active\": 0,\n",
    "    \"yanchor\": \"top\",\n",
    "    \"xanchor\": \"left\",\n",
    "    \"currentvalue\": {\n",
    "        \"font\": {\"size\": 16},\n",
    "        \"prefix\": \"Day:\",\n",
    "        \"visible\": True,\n",
    "        \"xanchor\": \"right\"\n",
    "    },\n",
    "    \"transition\": {\"duration\": 300, \"easing\": \"cubic-in-out\"},\n",
    "    \"pad\": {\"b\": 10, \"t\": 50},\n",
    "    \"len\": 0.9,\n",
    "    \"x\": 0.1,\n",
    "    \"y\": 0,\n",
    "    \"steps\": []\n",
    "}\n",
    "\n",
    "# make data\n",
    "day = 'Mon'\n",
    "data_dict = []\n",
    "for contract in contracts:\n",
    "    dataset_by_day = an[an[\"daywk\"] == day]\n",
    "    dataset_by_day_and_cont = dataset_by_day[\n",
    "        dataset_by_day[\"type\"] == contract]\n",
    "\n",
    "#     data_dict = {\n",
    "#         \"x\": list(dataset_by_day_and_cont[\"strike\"]),\n",
    "#         \"y\": list(dataset_by_day_and_cont[\"open_int\"]),\n",
    "#         \"mode\": \"lines\",\n",
    "#         \"name\": contract.title()\n",
    "#     }\n",
    "#     fig_dict[\"data\"].append(data_dict)\n",
    "    \n",
    "    data_dict.append(go.Scatter(x=dataset_by_day_and_cont['strike'], \n",
    "                                y=dataset_by_day_and_cont['open_int'], \n",
    "                                mode='lines',\n",
    "                                name=contract.title()))\n",
    "    \n",
    "fig_dict['data'] = data_dict\n",
    "    \n",
    "yahoo_day = yahoohist[yahoohist.daywk==day]\n",
    "shape_dict = [go.layout.Shape(type='line',\n",
    "                              line_width=2.,\n",
    "                              line_dash='dot',\n",
    "                              line_color='#919191',\n",
    "                              x0=yahoo_day['Open'].values.tolist()[0],\n",
    "                              x1=yahoo_day['Open'].values.tolist()[0],\n",
    "                              y0=y_range_st,\n",
    "                              y1=y_range_end,\n",
    "                              xref='x',\n",
    "                              yref='y'\n",
    "                             ),\n",
    "             go.layout.Shape(type='line',\n",
    "                             line_width=2.5,\n",
    "                             line_dash='dot',\n",
    "                             line_color='#121212',\n",
    "                             x0=yahoo_day['Close'].values.tolist()[0],\n",
    "                             x1=yahoo_day['Close'].values.tolist()[0],\n",
    "                             y0=y_range_st,\n",
    "                             y1=y_range_end,\n",
    "                             xref='x',\n",
    "                             yref='y')]\n",
    "\n",
    "fig_dict['layout']['shapes'] = shape_dict\n",
    "    \n",
    "# make frames\n",
    "for day in days:\n",
    "    frame = {\"data\": [], \"name\": str(day), \"layout\":{}}\n",
    "    for contract in contracts:\n",
    "        dataset_by_day = an[an[\"daywk\"] == day]\n",
    "        dataset_by_day_and_cont = dataset_by_day[\n",
    "            dataset_by_day[\"type\"] == contract]\n",
    "\n",
    "        data_dict = {\n",
    "            \"x\": list(dataset_by_day_and_cont[\"strike\"]),\n",
    "            \"y\": list(dataset_by_day_and_cont[\"open_int\"]),\n",
    "            \"mode\": \"lines\",\n",
    "            \"name\": contract.title()\n",
    "        }\n",
    "        frame[\"data\"].append(data_dict)\n",
    "    \n",
    "    # add the two vertical lines\n",
    "    yahoo_day = yahoohist[yahoohist.daywk==day]\n",
    "    shape_dict = [go.layout.Shape(type='line',\n",
    "                                  line_width=2.,\n",
    "                                  line_dash='dot',\n",
    "                                  line_color='#919191',\n",
    "                                  x0=yahoo_day['Open'].values.tolist()[0],\n",
    "                                  x1=yahoo_day['Open'].values.tolist()[0],\n",
    "                                  y0=y_range_st,\n",
    "                                  y1=y_range_end,\n",
    "                                  xref='x',\n",
    "                                  yref='y'\n",
    "                                 ),\n",
    "                 go.layout.Shape(type='line',\n",
    "                                 line_width=2.5,\n",
    "                                 line_dash='dot',\n",
    "                                 line_color='#121212',\n",
    "                                 x0=yahoo_day['Close'].values.tolist()[0],\n",
    "                                 x1=yahoo_day['Close'].values.tolist()[0],\n",
    "                                 y0=y_range_st,\n",
    "                                 y1=y_range_end,\n",
    "                                 xref='x',\n",
    "                                 yref='y')]\n",
    "\n",
    "    frame['layout']['shapes'] = shape_dict\n",
    "#     frame['layout'] = {'shapes':shape_dict}\n",
    "    \n",
    "    # add annotations for each vertical line\n",
    "    annotation_dict = [go.layout.Annotation(text=f\" Open: {yahoo_day['Open'].values.tolist()[0]:,.0f}\",\n",
    "                                            font_size=10.5,\n",
    "                                            font_color=\"#919191\",\n",
    "                                            showarrow=False,\n",
    "                                            x=yahoo_day['Open'].values.tolist()[0],\n",
    "                                            y=y_range_end,\n",
    "                                            textangle=-90,\n",
    "                                            yanchor='bottom'),\n",
    "                       go.layout.Annotation(text=f\" Close: {yahoo_day['Close'].values.tolist()[0]:,.0f}\",\n",
    "                                            font_size=10.5,\n",
    "                                            font_color=\"#121212\",\n",
    "                                            showarrow=False,\n",
    "                                            x=yahoo_day['Close'].values.tolist()[0],\n",
    "                                            y=y_range_end,\n",
    "                                            textangle=-90,\n",
    "                                            yanchor='bottom')]\n",
    "    \n",
    "#     frame['layout'] = {'annotations':annotation_dict}\n",
    "    frame['layout']['annotations'] = annotation_dict\n",
    "\n",
    "    fig_dict[\"frames\"].append(frame)\n",
    "    slider_step = {\"args\": [\n",
    "        [day],\n",
    "        {\"frame\": {\"duration\": 300, \"redraw\": False},\n",
    "         \"mode\": \"immediate\",\n",
    "         \"transition\": {\"duration\": 300}}\n",
    "    ],\n",
    "        \"label\": day,\n",
    "        \"method\": \"animate\"}\n",
    "    sliders_dict[\"steps\"].append(slider_step)\n",
    "\n",
    "\n",
    "fig_dict[\"layout\"][\"sliders\"] = [sliders_dict]\n",
    "\n",
    "fig = go.Figure(fig_dict)\n",
    "\n",
    "fig.show()"
   ]
  },
  {
   "cell_type": "code",
   "execution_count": 210,
   "id": "69cf604f",
   "metadata": {},
   "outputs": [
    {
     "data": {
      "text/plain": [
       "[Scatter({\n",
       "     'mode': 'lines',\n",
       "     'name': 'Call',\n",
       "     'x': array([138., 139., 140., 141., 142., 143., 144., 145., 146., 147., 148., 149.,\n",
       "                 150., 155., 160., 165., 170.]),\n",
       "     'y': array([  34.,   70.,  434.,  911.,  539.,   45.,  167.,  592.,  350.,  486.,\n",
       "                 1403., 1580., 4721., 7574., 9631., 4069., 2816.])\n",
       " }),\n",
       " Scatter({\n",
       "     'mode': 'lines',\n",
       "     'name': 'Put',\n",
       "     'x': array([138., 139., 140., 141., 142., 143., 144., 145., 146., 147., 148., 149.,\n",
       "                 150., 155., 160., 165., 170.]),\n",
       "     'y': array([  795.,  1048.,  2734.,   611.,   929.,   724.,   846.,  1785.,  1375.,\n",
       "                  3023.,  1721., 12104.,  3718.,  1296.,   581.,   295.,   123.])\n",
       " })]"
      ]
     },
     "execution_count": 210,
     "metadata": {},
     "output_type": "execute_result"
    }
   ],
   "source": [
    "fig_dict['data']"
   ]
  },
  {
   "cell_type": "markdown",
   "id": "b563dbbf",
   "metadata": {},
   "source": [
    "--- "
   ]
  },
  {
   "cell_type": "markdown",
   "id": "6a083fdb",
   "metadata": {},
   "source": [
    "---"
   ]
  },
  {
   "cell_type": "code",
   "execution_count": 222,
   "id": "e1b4be0f",
   "metadata": {
    "scrolled": true
   },
   "outputs": [
    {
     "name": "stderr",
     "output_type": "stream",
     "text": [
      "<ipython-input-222-12008081584d>:4: SettingWithCopyWarning:\n",
      "\n",
      "\n",
      "A value is trying to be set on a copy of a slice from a DataFrame.\n",
      "Try using .loc[row_indexer,col_indexer] = value instead\n",
      "\n",
      "See the caveats in the documentation: https://pandas.pydata.org/pandas-docs/stable/user_guide/indexing.html#returning-a-view-versus-a-copy\n",
      "\n",
      "<ipython-input-222-12008081584d>:4: SettingWithCopyWarning:\n",
      "\n",
      "\n",
      "A value is trying to be set on a copy of a slice from a DataFrame.\n",
      "Try using .loc[row_indexer,col_indexer] = value instead\n",
      "\n",
      "See the caveats in the documentation: https://pandas.pydata.org/pandas-docs/stable/user_guide/indexing.html#returning-a-view-versus-a-copy\n",
      "\n",
      "<ipython-input-222-12008081584d>:4: SettingWithCopyWarning:\n",
      "\n",
      "\n",
      "A value is trying to be set on a copy of a slice from a DataFrame.\n",
      "Try using .loc[row_indexer,col_indexer] = value instead\n",
      "\n",
      "See the caveats in the documentation: https://pandas.pydata.org/pandas-docs/stable/user_guide/indexing.html#returning-a-view-versus-a-copy\n",
      "\n",
      "<ipython-input-222-12008081584d>:4: SettingWithCopyWarning:\n",
      "\n",
      "\n",
      "A value is trying to be set on a copy of a slice from a DataFrame.\n",
      "Try using .loc[row_indexer,col_indexer] = value instead\n",
      "\n",
      "See the caveats in the documentation: https://pandas.pydata.org/pandas-docs/stable/user_guide/indexing.html#returning-a-view-versus-a-copy\n",
      "\n",
      "<ipython-input-222-12008081584d>:4: SettingWithCopyWarning:\n",
      "\n",
      "\n",
      "A value is trying to be set on a copy of a slice from a DataFrame.\n",
      "Try using .loc[row_indexer,col_indexer] = value instead\n",
      "\n",
      "See the caveats in the documentation: https://pandas.pydata.org/pandas-docs/stable/user_guide/indexing.html#returning-a-view-versus-a-copy\n",
      "\n"
     ]
    }
   ],
   "source": [
    "dailys = []\n",
    "for d in an['date'].unique():\n",
    "    tmp = an[an['date']==d]\n",
    "    tmp['maxvol'] = tmp.groupby('type')['open_int'].transform('max')\n",
    "    dailys.append(tmp[tmp.maxvol==tmp.open_int])\n",
    "    \n",
    "dailys = pd.concat(dailys)"
   ]
  },
  {
   "cell_type": "code",
   "execution_count": 223,
   "id": "3eaaa872",
   "metadata": {},
   "outputs": [
    {
     "data": {
      "text/html": [
       "<div>\n",
       "<style scoped>\n",
       "    .dataframe tbody tr th:only-of-type {\n",
       "        vertical-align: middle;\n",
       "    }\n",
       "\n",
       "    .dataframe tbody tr th {\n",
       "        vertical-align: top;\n",
       "    }\n",
       "\n",
       "    .dataframe thead th {\n",
       "        text-align: right;\n",
       "    }\n",
       "</style>\n",
       "<table border=\"1\" class=\"dataframe\">\n",
       "  <thead>\n",
       "    <tr style=\"text-align: right;\">\n",
       "      <th></th>\n",
       "      <th>strike</th>\n",
       "      <th>open_int</th>\n",
       "      <th>expiration_date</th>\n",
       "      <th>root_sym</th>\n",
       "      <th>type</th>\n",
       "      <th>date</th>\n",
       "      <th>daywk</th>\n",
       "      <th>maxvol</th>\n",
       "    </tr>\n",
       "  </thead>\n",
       "  <tbody>\n",
       "    <tr>\n",
       "      <th>216</th>\n",
       "      <td>160.0</td>\n",
       "      <td>9631.0</td>\n",
       "      <td>2021-10-08</td>\n",
       "      <td>AAPL</td>\n",
       "      <td>call</td>\n",
       "      <td>2021-11-15</td>\n",
       "      <td>Mon</td>\n",
       "      <td>9631.0</td>\n",
       "    </tr>\n",
       "    <tr>\n",
       "      <th>213</th>\n",
       "      <td>149.0</td>\n",
       "      <td>12104.0</td>\n",
       "      <td>2021-10-08</td>\n",
       "      <td>AAPL</td>\n",
       "      <td>put</td>\n",
       "      <td>2021-11-15</td>\n",
       "      <td>Mon</td>\n",
       "      <td>12104.0</td>\n",
       "    </tr>\n",
       "    <tr>\n",
       "      <th>248</th>\n",
       "      <td>150.0</td>\n",
       "      <td>122485.0</td>\n",
       "      <td>2021-10-15</td>\n",
       "      <td>AAPL</td>\n",
       "      <td>call</td>\n",
       "      <td>2021-11-16</td>\n",
       "      <td>Tue</td>\n",
       "      <td>122485.0</td>\n",
       "    </tr>\n",
       "    <tr>\n",
       "      <th>248</th>\n",
       "      <td>150.0</td>\n",
       "      <td>100530.0</td>\n",
       "      <td>2021-10-15</td>\n",
       "      <td>AAPL</td>\n",
       "      <td>put</td>\n",
       "      <td>2021-11-16</td>\n",
       "      <td>Tue</td>\n",
       "      <td>100530.0</td>\n",
       "    </tr>\n",
       "    <tr>\n",
       "      <th>293</th>\n",
       "      <td>150.0</td>\n",
       "      <td>30804.0</td>\n",
       "      <td>2021-10-22</td>\n",
       "      <td>AAPL</td>\n",
       "      <td>call</td>\n",
       "      <td>2021-11-17</td>\n",
       "      <td>Wed</td>\n",
       "      <td>30804.0</td>\n",
       "    </tr>\n",
       "    <tr>\n",
       "      <th>293</th>\n",
       "      <td>150.0</td>\n",
       "      <td>6379.0</td>\n",
       "      <td>2021-10-22</td>\n",
       "      <td>AAPL</td>\n",
       "      <td>put</td>\n",
       "      <td>2021-11-17</td>\n",
       "      <td>Wed</td>\n",
       "      <td>6379.0</td>\n",
       "    </tr>\n",
       "    <tr>\n",
       "      <th>326</th>\n",
       "      <td>150.0</td>\n",
       "      <td>3536.0</td>\n",
       "      <td>2021-10-29</td>\n",
       "      <td>AAPL</td>\n",
       "      <td>call</td>\n",
       "      <td>2021-11-18</td>\n",
       "      <td>Thu</td>\n",
       "      <td>3536.0</td>\n",
       "    </tr>\n",
       "    <tr>\n",
       "      <th>325</th>\n",
       "      <td>149.0</td>\n",
       "      <td>1157.0</td>\n",
       "      <td>2021-10-29</td>\n",
       "      <td>AAPL</td>\n",
       "      <td>put</td>\n",
       "      <td>2021-11-18</td>\n",
       "      <td>Thu</td>\n",
       "      <td>1157.0</td>\n",
       "    </tr>\n",
       "    <tr>\n",
       "      <th>360</th>\n",
       "      <td>150.0</td>\n",
       "      <td>67588.0</td>\n",
       "      <td>2021-11-19</td>\n",
       "      <td>AAPL</td>\n",
       "      <td>call</td>\n",
       "      <td>2021-11-19</td>\n",
       "      <td>Fri</td>\n",
       "      <td>67588.0</td>\n",
       "    </tr>\n",
       "    <tr>\n",
       "      <th>358</th>\n",
       "      <td>140.0</td>\n",
       "      <td>20809.0</td>\n",
       "      <td>2021-11-19</td>\n",
       "      <td>AAPL</td>\n",
       "      <td>put</td>\n",
       "      <td>2021-11-19</td>\n",
       "      <td>Fri</td>\n",
       "      <td>20809.0</td>\n",
       "    </tr>\n",
       "  </tbody>\n",
       "</table>\n",
       "</div>"
      ],
      "text/plain": [
       "     strike  open_int expiration_date root_sym  type       date daywk  \\\n",
       "216   160.0    9631.0      2021-10-08     AAPL  call 2021-11-15   Mon   \n",
       "213   149.0   12104.0      2021-10-08     AAPL   put 2021-11-15   Mon   \n",
       "248   150.0  122485.0      2021-10-15     AAPL  call 2021-11-16   Tue   \n",
       "248   150.0  100530.0      2021-10-15     AAPL   put 2021-11-16   Tue   \n",
       "293   150.0   30804.0      2021-10-22     AAPL  call 2021-11-17   Wed   \n",
       "293   150.0    6379.0      2021-10-22     AAPL   put 2021-11-17   Wed   \n",
       "326   150.0    3536.0      2021-10-29     AAPL  call 2021-11-18   Thu   \n",
       "325   149.0    1157.0      2021-10-29     AAPL   put 2021-11-18   Thu   \n",
       "360   150.0   67588.0      2021-11-19     AAPL  call 2021-11-19   Fri   \n",
       "358   140.0   20809.0      2021-11-19     AAPL   put 2021-11-19   Fri   \n",
       "\n",
       "       maxvol  \n",
       "216    9631.0  \n",
       "213   12104.0  \n",
       "248  122485.0  \n",
       "248  100530.0  \n",
       "293   30804.0  \n",
       "293    6379.0  \n",
       "326    3536.0  \n",
       "325    1157.0  \n",
       "360   67588.0  \n",
       "358   20809.0  "
      ]
     },
     "execution_count": 223,
     "metadata": {},
     "output_type": "execute_result"
    }
   ],
   "source": [
    "dailys"
   ]
  },
  {
   "cell_type": "code",
   "execution_count": 224,
   "id": "7bcbefb1",
   "metadata": {},
   "outputs": [
    {
     "data": {
      "text/html": [
       "<div>\n",
       "<style scoped>\n",
       "    .dataframe tbody tr th:only-of-type {\n",
       "        vertical-align: middle;\n",
       "    }\n",
       "\n",
       "    .dataframe tbody tr th {\n",
       "        vertical-align: top;\n",
       "    }\n",
       "\n",
       "    .dataframe thead th {\n",
       "        text-align: right;\n",
       "    }\n",
       "</style>\n",
       "<table border=\"1\" class=\"dataframe\">\n",
       "  <thead>\n",
       "    <tr style=\"text-align: right;\">\n",
       "      <th></th>\n",
       "      <th>Date</th>\n",
       "      <th>Open</th>\n",
       "      <th>High</th>\n",
       "      <th>Low</th>\n",
       "      <th>Close</th>\n",
       "      <th>Volume</th>\n",
       "      <th>Dividends</th>\n",
       "      <th>Stock Splits</th>\n",
       "      <th>daywk</th>\n",
       "    </tr>\n",
       "  </thead>\n",
       "  <tbody>\n",
       "    <tr>\n",
       "      <th>0</th>\n",
       "      <td>2021-11-15</td>\n",
       "      <td>150.369995</td>\n",
       "      <td>151.880005</td>\n",
       "      <td>149.429993</td>\n",
       "      <td>150.000000</td>\n",
       "      <td>59222800</td>\n",
       "      <td>0</td>\n",
       "      <td>0</td>\n",
       "      <td>Mon</td>\n",
       "    </tr>\n",
       "    <tr>\n",
       "      <th>1</th>\n",
       "      <td>2021-11-16</td>\n",
       "      <td>149.940002</td>\n",
       "      <td>151.490005</td>\n",
       "      <td>149.339996</td>\n",
       "      <td>151.000000</td>\n",
       "      <td>59256200</td>\n",
       "      <td>0</td>\n",
       "      <td>0</td>\n",
       "      <td>Tue</td>\n",
       "    </tr>\n",
       "    <tr>\n",
       "      <th>2</th>\n",
       "      <td>2021-11-17</td>\n",
       "      <td>151.000000</td>\n",
       "      <td>155.000000</td>\n",
       "      <td>150.990005</td>\n",
       "      <td>153.490005</td>\n",
       "      <td>88807000</td>\n",
       "      <td>0</td>\n",
       "      <td>0</td>\n",
       "      <td>Wed</td>\n",
       "    </tr>\n",
       "    <tr>\n",
       "      <th>3</th>\n",
       "      <td>2021-11-18</td>\n",
       "      <td>153.710007</td>\n",
       "      <td>158.669998</td>\n",
       "      <td>153.050003</td>\n",
       "      <td>157.869995</td>\n",
       "      <td>137827700</td>\n",
       "      <td>0</td>\n",
       "      <td>0</td>\n",
       "      <td>Thu</td>\n",
       "    </tr>\n",
       "    <tr>\n",
       "      <th>4</th>\n",
       "      <td>2021-11-19</td>\n",
       "      <td>157.649994</td>\n",
       "      <td>161.020004</td>\n",
       "      <td>156.529999</td>\n",
       "      <td>160.550003</td>\n",
       "      <td>117305600</td>\n",
       "      <td>0</td>\n",
       "      <td>0</td>\n",
       "      <td>Fri</td>\n",
       "    </tr>\n",
       "  </tbody>\n",
       "</table>\n",
       "</div>"
      ],
      "text/plain": [
       "        Date        Open        High         Low       Close     Volume  \\\n",
       "0 2021-11-15  150.369995  151.880005  149.429993  150.000000   59222800   \n",
       "1 2021-11-16  149.940002  151.490005  149.339996  151.000000   59256200   \n",
       "2 2021-11-17  151.000000  155.000000  150.990005  153.490005   88807000   \n",
       "3 2021-11-18  153.710007  158.669998  153.050003  157.869995  137827700   \n",
       "4 2021-11-19  157.649994  161.020004  156.529999  160.550003  117305600   \n",
       "\n",
       "   Dividends  Stock Splits daywk  \n",
       "0          0             0   Mon  \n",
       "1          0             0   Tue  \n",
       "2          0             0   Wed  \n",
       "3          0             0   Thu  \n",
       "4          0             0   Fri  "
      ]
     },
     "execution_count": 224,
     "metadata": {},
     "output_type": "execute_result"
    }
   ],
   "source": [
    "yahoohist"
   ]
  },
  {
   "cell_type": "code",
   "execution_count": 254,
   "id": "b5277465",
   "metadata": {},
   "outputs": [
    {
     "data": {
      "application/vnd.plotly.v1+json": {
       "config": {
        "plotlyServerURL": "https://plot.ly"
       },
       "data": [
        {
         "hovertemplate": "type=call<br>daywk=%{x}<br>strike=%{y}<br>open_int=%{marker.size}<extra></extra>",
         "legendgroup": "call",
         "marker": {
          "color": "#636efa",
          "opacity": 0.7,
          "size": [
           9631,
           122485,
           30804,
           3536,
           67588
          ],
          "sizemode": "area",
          "sizeref": 306.2125,
          "symbol": "circle"
         },
         "mode": "markers+lines",
         "name": "call",
         "orientation": "v",
         "showlegend": true,
         "type": "scatter",
         "x": [
          "Mon",
          "Tue",
          "Wed",
          "Thu",
          "Fri"
         ],
         "xaxis": "x",
         "y": [
          160,
          150,
          150,
          150,
          150
         ],
         "yaxis": "y"
        },
        {
         "hovertemplate": "type=put<br>daywk=%{x}<br>strike=%{y}<br>open_int=%{marker.size}<extra></extra>",
         "legendgroup": "put",
         "marker": {
          "color": "#EF553B",
          "opacity": 0.7,
          "size": [
           12104,
           100530,
           6379,
           1157,
           20809
          ],
          "sizemode": "area",
          "sizeref": 306.2125,
          "symbol": "circle"
         },
         "mode": "markers+lines",
         "name": "put",
         "orientation": "v",
         "showlegend": true,
         "type": "scatter",
         "x": [
          "Mon",
          "Tue",
          "Wed",
          "Thu",
          "Fri"
         ],
         "xaxis": "x",
         "y": [
          149,
          150,
          150,
          149,
          140
         ],
         "yaxis": "y"
        },
        {
         "marker": {
          "size": 10,
          "symbol": [
           "x",
           "x",
           "x",
           "x",
           "x"
          ]
         },
         "name": "Close Price",
         "type": "scatter",
         "x": [
          "Mon",
          "Tue",
          "Wed",
          "Thu",
          "Fri"
         ],
         "y": [
          150,
          151,
          153.49000549316406,
          157.8699951171875,
          160.5500030517578
         ]
        }
       ],
       "layout": {
        "legend": {
         "itemsizing": "constant",
         "title": {
          "text": "type"
         },
         "tracegroupgap": 0
        },
        "margin": {
         "t": 60
        },
        "template": {
         "layout": {
          "colorway": [
           "#0173c2",
           "#cd534c",
           "#868686",
           "#D8A360",
           "#7aa6dc",
           "#003c66"
          ],
          "font": {
           "color": "black",
           "family": "Avenir"
          },
          "hovermode": "closest",
          "mapbox": {
           "style": "light"
          },
          "paper_bgcolor": "#ffffff",
          "plot_bgcolor": "#ffffff",
          "xaxis": {
           "automargin": true,
           "gridcolor": "#e4e3e3",
           "linecolor": "#e4e3e3",
           "ticks": "",
           "zerolinecolor": "#e4e3e3",
           "zerolinewidth": 2
          },
          "yaxis": {
           "automargin": true,
           "gridcolor": "#e4e3e3",
           "linecolor": "#e4e3e3",
           "ticks": "",
           "title": {
            "standoff": 10
           },
           "zerolinecolor": "#e4e3e3",
           "zerolinewidth": 2
          }
         }
        },
        "xaxis": {
         "anchor": "y",
         "domain": [
          0,
          1
         ],
         "title": {
          "text": "daywk"
         }
        },
        "yaxis": {
         "anchor": "x",
         "domain": [
          0,
          1
         ],
         "title": {
          "text": "strike"
         }
        }
       }
      },
      "text/html": [
       "<div>                            <div id=\"26d5e636-b0f5-494d-92a9-cc790e89578f\" class=\"plotly-graph-div\" style=\"height:525px; width:100%;\"></div>            <script type=\"text/javascript\">                require([\"plotly\"], function(Plotly) {                    window.PLOTLYENV=window.PLOTLYENV || {};                                    if (document.getElementById(\"26d5e636-b0f5-494d-92a9-cc790e89578f\")) {                    Plotly.newPlot(                        \"26d5e636-b0f5-494d-92a9-cc790e89578f\",                        [{\"hovertemplate\": \"type=call<br>daywk=%{x}<br>strike=%{y}<br>open_int=%{marker.size}<extra></extra>\", \"legendgroup\": \"call\", \"marker\": {\"color\": \"#636efa\", \"opacity\": 0.7, \"size\": [9631.0, 122485.0, 30804.0, 3536.0, 67588.0], \"sizemode\": \"area\", \"sizeref\": 306.2125, \"symbol\": \"circle\"}, \"mode\": \"markers+lines\", \"name\": \"call\", \"orientation\": \"v\", \"showlegend\": true, \"type\": \"scatter\", \"x\": [\"Mon\", \"Tue\", \"Wed\", \"Thu\", \"Fri\"], \"xaxis\": \"x\", \"y\": [160.0, 150.0, 150.0, 150.0, 150.0], \"yaxis\": \"y\"}, {\"hovertemplate\": \"type=put<br>daywk=%{x}<br>strike=%{y}<br>open_int=%{marker.size}<extra></extra>\", \"legendgroup\": \"put\", \"marker\": {\"color\": \"#EF553B\", \"opacity\": 0.7, \"size\": [12104.0, 100530.0, 6379.0, 1157.0, 20809.0], \"sizemode\": \"area\", \"sizeref\": 306.2125, \"symbol\": \"circle\"}, \"mode\": \"markers+lines\", \"name\": \"put\", \"orientation\": \"v\", \"showlegend\": true, \"type\": \"scatter\", \"x\": [\"Mon\", \"Tue\", \"Wed\", \"Thu\", \"Fri\"], \"xaxis\": \"x\", \"y\": [149.0, 150.0, 150.0, 149.0, 140.0], \"yaxis\": \"y\"}, {\"marker\": {\"size\": 10, \"symbol\": [\"x\", \"x\", \"x\", \"x\", \"x\"]}, \"name\": \"Close Price\", \"type\": \"scatter\", \"x\": [\"Mon\", \"Tue\", \"Wed\", \"Thu\", \"Fri\"], \"y\": [150.0, 151.0, 153.49000549316406, 157.8699951171875, 160.5500030517578]}],                        {\"legend\": {\"itemsizing\": \"constant\", \"title\": {\"text\": \"type\"}, \"tracegroupgap\": 0}, \"margin\": {\"t\": 60}, \"template\": {\"layout\": {\"colorway\": [\"#0173c2\", \"#cd534c\", \"#868686\", \"#D8A360\", \"#7aa6dc\", \"#003c66\"], \"font\": {\"color\": \"black\", \"family\": \"Avenir\"}, \"hovermode\": \"closest\", \"mapbox\": {\"style\": \"light\"}, \"paper_bgcolor\": \"#ffffff\", \"plot_bgcolor\": \"#ffffff\", \"xaxis\": {\"automargin\": true, \"gridcolor\": \"#e4e3e3\", \"linecolor\": \"#e4e3e3\", \"ticks\": \"\", \"zerolinecolor\": \"#e4e3e3\", \"zerolinewidth\": 2}, \"yaxis\": {\"automargin\": true, \"gridcolor\": \"#e4e3e3\", \"linecolor\": \"#e4e3e3\", \"ticks\": \"\", \"title\": {\"standoff\": 10}, \"zerolinecolor\": \"#e4e3e3\", \"zerolinewidth\": 2}}}, \"xaxis\": {\"anchor\": \"y\", \"domain\": [0.0, 1.0], \"title\": {\"text\": \"daywk\"}}, \"yaxis\": {\"anchor\": \"x\", \"domain\": [0.0, 1.0], \"title\": {\"text\": \"strike\"}}},                        {\"responsive\": true}                    ).then(function(){\n",
       "                            \n",
       "var gd = document.getElementById('26d5e636-b0f5-494d-92a9-cc790e89578f');\n",
       "var x = new MutationObserver(function (mutations, observer) {{\n",
       "        var display = window.getComputedStyle(gd).display;\n",
       "        if (!display || display === 'none') {{\n",
       "            console.log([gd, 'removed!']);\n",
       "            Plotly.purge(gd);\n",
       "            observer.disconnect();\n",
       "        }}\n",
       "}});\n",
       "\n",
       "// Listen for the removal of the full notebook cells\n",
       "var notebookContainer = gd.closest('#notebook-container');\n",
       "if (notebookContainer) {{\n",
       "    x.observe(notebookContainer, {childList: true});\n",
       "}}\n",
       "\n",
       "// Listen for the clearing of the current output cell\n",
       "var outputEl = gd.closest('.output');\n",
       "if (outputEl) {{\n",
       "    x.observe(outputEl, {childList: true});\n",
       "}}\n",
       "\n",
       "                        })                };                });            </script>        </div>"
      ]
     },
     "metadata": {},
     "output_type": "display_data"
    }
   ],
   "source": [
    "fg = px.scatter(dailys,\n",
    "                x='daywk',\n",
    "                y='strike',\n",
    "                color='type',\n",
    "                size='open_int',\n",
    "                opacity=0.7).update_traces(mode='markers+lines')\n",
    "\n",
    "fg.add_trace(go.Scatter(x=yahoohist.daywk,\n",
    "                        y=yahoohist.Close,\n",
    "                        name='Close Price',\n",
    "                        marker = {'symbol':['x']*len(yahoohist),\n",
    "                                 'size':10}))\n",
    "\n",
    "fg.update_layout(template=plot_settings.dockstreet_template)\n",
    "\n",
    "fg.show()"
   ]
  },
  {
   "cell_type": "code",
   "execution_count": 240,
   "id": "4a6b6b5c",
   "metadata": {},
   "outputs": [
    {
     "data": {
      "text/plain": [
       "['x', 'x', 'x', 'x', 'x']"
      ]
     },
     "execution_count": 240,
     "metadata": {},
     "output_type": "execute_result"
    }
   ],
   "source": [
    "['x']*len(yahoohist)"
   ]
  },
  {
   "cell_type": "code",
   "execution_count": 255,
   "id": "943685f9",
   "metadata": {},
   "outputs": [],
   "source": [
    "yahoohist = yahoo.history(start = datetime(2022,1,14), end = datetime(2022,1,17))"
   ]
  },
  {
   "cell_type": "code",
   "execution_count": 256,
   "id": "c0db66b8",
   "metadata": {},
   "outputs": [
    {
     "data": {
      "text/html": [
       "<div>\n",
       "<style scoped>\n",
       "    .dataframe tbody tr th:only-of-type {\n",
       "        vertical-align: middle;\n",
       "    }\n",
       "\n",
       "    .dataframe tbody tr th {\n",
       "        vertical-align: top;\n",
       "    }\n",
       "\n",
       "    .dataframe thead th {\n",
       "        text-align: right;\n",
       "    }\n",
       "</style>\n",
       "<table border=\"1\" class=\"dataframe\">\n",
       "  <thead>\n",
       "    <tr style=\"text-align: right;\">\n",
       "      <th></th>\n",
       "      <th>Open</th>\n",
       "      <th>High</th>\n",
       "      <th>Low</th>\n",
       "      <th>Close</th>\n",
       "      <th>Volume</th>\n",
       "      <th>Dividends</th>\n",
       "      <th>Stock Splits</th>\n",
       "    </tr>\n",
       "    <tr>\n",
       "      <th>Date</th>\n",
       "      <th></th>\n",
       "      <th></th>\n",
       "      <th></th>\n",
       "      <th></th>\n",
       "      <th></th>\n",
       "      <th></th>\n",
       "      <th></th>\n",
       "    </tr>\n",
       "  </thead>\n",
       "  <tbody>\n",
       "    <tr>\n",
       "      <th>2022-01-14</th>\n",
       "      <td>171.339996</td>\n",
       "      <td>173.779999</td>\n",
       "      <td>171.259995</td>\n",
       "      <td>172.395004</td>\n",
       "      <td>41648786</td>\n",
       "      <td>0</td>\n",
       "      <td>0</td>\n",
       "    </tr>\n",
       "  </tbody>\n",
       "</table>\n",
       "</div>"
      ],
      "text/plain": [
       "                  Open        High         Low       Close    Volume  \\\n",
       "Date                                                                   \n",
       "2022-01-14  171.339996  173.779999  171.259995  172.395004  41648786   \n",
       "\n",
       "            Dividends  Stock Splits  \n",
       "Date                                 \n",
       "2022-01-14          0             0  "
      ]
     },
     "execution_count": 256,
     "metadata": {},
     "output_type": "execute_result"
    }
   ],
   "source": [
    "yahoohist"
   ]
  },
  {
   "cell_type": "code",
   "execution_count": null,
   "id": "dfc6960e",
   "metadata": {},
   "outputs": [],
   "source": []
  }
 ],
 "metadata": {
  "kernelspec": {
   "display_name": "Python 3",
   "language": "python",
   "name": "python3"
  },
  "language_info": {
   "codemirror_mode": {
    "name": "ipython",
    "version": 3
   },
   "file_extension": ".py",
   "mimetype": "text/x-python",
   "name": "python",
   "nbconvert_exporter": "python",
   "pygments_lexer": "ipython3",
   "version": "3.9.5"
  }
 },
 "nbformat": 4,
 "nbformat_minor": 5
}
